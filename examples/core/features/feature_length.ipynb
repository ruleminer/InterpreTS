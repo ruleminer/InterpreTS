{
 "cells": [
  {
   "cell_type": "code",
   "execution_count": null,
   "metadata": {},
   "outputs": [],
   "source": [
    "pip install pandas"
   ]
  },
  {
   "cell_type": "code",
   "execution_count": null,
   "metadata": {},
   "outputs": [
    {
     "name": "stdout",
     "output_type": "stream",
     "text": [
      "Length Feature: 6\n"
     ]
    }
   ],
   "source": [
    "import pandas as pd\n",
    "import sys\n",
    "import os\n",
    "\n",
    "# Adding path to interpreTS directory so notebook can import modules\n",
    "sys.path.insert(0, os.path.abspath(os.path.join(os.path.dirname('__file__'), '../../../interpreTS')))\n",
    "from core.time_series_data import TimeSeriesData\n",
    "from core.feature_extractor import FeatureExtractor\n",
    "\n",
    "# Data preparation\n",
    "data = pd.Series([1, 2, 3, 4, 5, 6])\n",
    "\n",
    "# Initialization TimeSeriesData\n",
    "ts_data = TimeSeriesData(data)\n",
    "\n",
    "\n",
    "# Splitting the data into training and test sets\n",
    "train_data, test_data = ts_data.split(0.6)\n",
    "\n",
    "# Feature extractor initialization\n",
    "extractor = FeatureExtractor(features=['length'])\n",
    "\n",
    "# Extracting features from data\n",
    "features = extractor.extract_features(data)\n",
    "\n",
    "# Displaying results\n",
    "print(\"Length Feature:\", features['length'])"
   ]
  },
  {
   "cell_type": "code",
   "execution_count": null,
   "metadata": {},
   "outputs": [],
   "source": []
  }
 ],
 "metadata": {
  "kernelspec": {
   "display_name": "Python 3",
   "language": "python",
   "name": "python3"
  },
  "language_info": {
   "codemirror_mode": {
    "name": "ipython",
    "version": 3
   },
   "file_extension": ".py",
   "mimetype": "text/x-python",
   "name": "python",
   "nbconvert_exporter": "python",
   "pygments_lexer": "ipython3",
   "version": "3.9.13"
  }
 },
 "nbformat": 4,
 "nbformat_minor": 2
}
