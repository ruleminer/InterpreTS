{
 "cells": [
  {
   "cell_type": "code",
   "execution_count": 1,
   "metadata": {},
   "outputs": [],
   "source": [
    "import pandas as pd\n",
    "from interpreTS import TimeSeriesData, FeatureExtractor"
   ]
  },
  {
   "cell_type": "code",
   "execution_count": 4,
   "metadata": {},
   "outputs": [
    {
     "name": "stdout",
     "output_type": "stream",
     "text": [
      "Length Feature: \n",
      "0    5\n",
      "1    5\n",
      "2    5\n",
      "Name: length, dtype: int64\n"
     ]
    }
   ],
   "source": [
    "# Data preparation\n",
    "data = pd.Series([1, 2, 3, 4, 5, 6, 7])\n",
    "\n",
    "# Initialization TimeSeriesData\n",
    "ts_data = TimeSeriesData(data)\n",
    "\n",
    "\n",
    "# Feature extractor initialization\n",
    "extractor = FeatureExtractor(features=['length'])\n",
    "\n",
    "# Extracting features from data\n",
    "features = extractor.extract_features(data)\n",
    "\n",
    "# Displaying results\n",
    "print(f\"Length Feature: \\n{features['length']}\")"
   ]
  }
 ],
 "metadata": {
  "kernelspec": {
   "display_name": "Python 3",
   "language": "python",
   "name": "python3"
  },
  "language_info": {
   "codemirror_mode": {
    "name": "ipython",
    "version": 3
   },
   "file_extension": ".py",
   "mimetype": "text/x-python",
   "name": "python",
   "nbconvert_exporter": "python",
   "pygments_lexer": "ipython3",
   "version": "3.10.1"
  }
 },
 "nbformat": 4,
 "nbformat_minor": 2
}
