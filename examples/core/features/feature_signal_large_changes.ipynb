{
 "cells": [
  {
   "cell_type": "code",
   "execution_count": null,
   "metadata": {},
   "outputs": [
    {
     "name": "stdout",
     "output_type": "stream",
     "text": [
      "Proportion of significant changes in the time series: 0.2222222222222222\n"
     ]
    }
   ],
   "source": [
    "import pandas as pd\n",
    "import sys\n",
    "import os\n",
    "\n",
    "# Adding path to interpreTS directory so notebook can import modules\n",
    "sys.path.insert(0, os.path.abspath(os.path.join(os.path.dirname('__file__'), '../../../interpreTS')))\n",
    "from core.features.feature_signal_large_changes import significant_change\n",
    "\n",
    "# Data preparation\n",
    "data = pd.Series([1, 2, 3, -90, 5, 10, 15, 20, 25, 30])\n",
    "\n",
    "# Function call\n",
    "proportion_significant_changes = significant_change(data)\n",
    "\n",
    "# Displaying the result\n",
    "print(f\"Proportion of significant changes: {proportion_significant_changes}\")\n"
   ]
  }
 ],
 "metadata": {
  "kernelspec": {
   "display_name": "Python 3",
   "language": "python",
   "name": "python3"
  },
  "language_info": {
   "codemirror_mode": {
    "name": "ipython",
    "version": 3
   },
   "file_extension": ".py",
   "mimetype": "text/x-python",
   "name": "python",
   "nbconvert_exporter": "python",
   "pygments_lexer": "ipython3",
   "version": "3.12.2"
  }
 },
 "nbformat": 4,
 "nbformat_minor": 2
}
