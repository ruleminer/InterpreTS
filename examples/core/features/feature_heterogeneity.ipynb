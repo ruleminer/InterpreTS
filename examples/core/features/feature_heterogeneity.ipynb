{
 "cells": [
  {
   "cell_type": "code",
   "execution_count": 5,
   "metadata": {},
   "outputs": [],
   "source": [
    "import pandas as pd\n",
    "from interpreTS import FeatureExtractor, Features"
   ]
  },
  {
   "cell_type": "code",
   "execution_count": 11,
   "metadata": {},
   "outputs": [
    {
     "name": "stdout",
     "output_type": "stream",
     "text": [
      "Warning: Failed to calculate heterogeneity for column time: Data must contain only numeric values.\n",
      "Heterogeneity of time series: \n",
      "0    0.74435\n",
      "Name: heterogeneity_value, dtype: float64\n"
     ]
    }
   ],
   "source": [
    "#extract heterogeneity feature from time series data\n",
    "raw_data = pd.DataFrame({'time': pd.date_range(start=\"2023-01-01\", periods=8, freq=\"D\"),\n",
    "                         'value': [15, 3, 6, 2, 1, 5, 8, 10]})\n",
    "\n",
    "\n",
    "extractor = FeatureExtractor(features=[Features.HETEROGENEITY])\n",
    "feature = extractor.extract_features(raw_data)\n",
    "\n",
    "print(f\"Heterogeneity of time series: \\n{feature.heterogeneity_value}\")"
   ]
  }
 ],
 "metadata": {
  "kernelspec": {
   "display_name": "Python 3",
   "language": "python",
   "name": "python3"
  },
  "language_info": {
   "codemirror_mode": {
    "name": "ipython",
    "version": 3
   },
   "file_extension": ".py",
   "mimetype": "text/x-python",
   "name": "python",
   "nbconvert_exporter": "python",
   "pygments_lexer": "ipython3",
   "version": "3.9.13"
  }
 },
 "nbformat": 4,
 "nbformat_minor": 2
}
