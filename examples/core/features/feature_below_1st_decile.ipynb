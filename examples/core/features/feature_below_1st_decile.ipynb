{
 "cells": [
  {
   "cell_type": "code",
   "execution_count": 3,
   "metadata": {},
   "outputs": [
    {
     "name": "stdout",
     "output_type": "stream",
     "text": [
      "Fraction of values above the 9th decile: 0.2\n"
     ]
    }
   ],
   "source": [
    "import pandas as pd\n",
    "import sys\n",
    "import os\n",
    "\n",
    "# Adding path to interpreTS directory so the notebook can import modules\n",
    "sys.path.insert(0, os.path.abspath(os.path.join(os.path.dirname('__file__'), '../../../InterpreTS')))\n",
    "\n",
    "# Importing the feature calculation function\n",
    "from core.features.feature_below_1st_decile import calculate_below_1st_decile\n",
    "\n",
    "# Data preparation\n",
    "data = pd.Series([1, 2, 3, 4, 5])\n",
    "training_data = pd.Series([1, 2, 3, 4, 5, 6, 7, 8, 9, 10])\n",
    "\n",
    "# Function call\n",
    "above_decile_fraction = calculate_below_1st_decile(data, training_data)\n",
    "\n",
    "# Displaying the result\n",
    "print(f\"Fraction of values above the 9th decile: {above_decile_fraction}\")\n"
   ]
  },
  {
   "cell_type": "code",
   "execution_count": null,
   "metadata": {},
   "outputs": [],
   "source": []
  }
 ],
 "metadata": {
  "kernelspec": {
   "display_name": "Python 3",
   "language": "python",
   "name": "python3"
  },
  "language_info": {
   "codemirror_mode": {
    "name": "ipython",
    "version": 3
   },
   "file_extension": ".py",
   "mimetype": "text/x-python",
   "name": "python",
   "nbconvert_exporter": "python",
   "pygments_lexer": "ipython3",
   "version": "3.12.2"
  }
 },
 "nbformat": 4,
 "nbformat_minor": 2
}
