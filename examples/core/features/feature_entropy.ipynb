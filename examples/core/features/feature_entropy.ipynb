{
 "cells": [
  {
   "cell_type": "code",
   "execution_count": 6,
   "metadata": {},
   "outputs": [],
   "source": [
    "import pandas as pd\n",
    "from interpreTS import FeatureExtractor, TimeSeriesData"
   ]
  },
  {
   "cell_type": "code",
   "execution_count": 9,
   "metadata": {},
   "outputs": [
    {
     "name": "stdout",
     "output_type": "stream",
     "text": [
      "Entropy of time series: \n",
      "0    0.721928\n",
      "1    0.864974\n",
      "2    0.960964\n",
      "3    0.960964\n",
      "Name: entropy, dtype: float64\n"
     ]
    }
   ],
   "source": [
    "# Create a time series\n",
    "data = pd.Series([-3, -2, 13, -533, -10, -150, 220, 303])\n",
    "ts_data = TimeSeriesData(data)\n",
    "\n",
    "# Extract the entropy of the time series\n",
    "extractor = FeatureExtractor(features=[\"entropy\"])\n",
    "feature = extractor.extract_features(ts_data.data)\n",
    "\n",
    "# Print the entropy of the time series\n",
    "print(f\"Entropy of time series: \\n{feature['entropy']}\")"
   ]
  }
 ],
 "metadata": {
  "kernelspec": {
   "display_name": "Python 3",
   "language": "python",
   "name": "python3"
  },
  "language_info": {
   "codemirror_mode": {
    "name": "ipython",
    "version": 3
   },
   "file_extension": ".py",
   "mimetype": "text/x-python",
   "name": "python",
   "nbconvert_exporter": "python",
   "pygments_lexer": "ipython3",
   "version": "3.10.1"
  }
 },
 "nbformat": 4,
 "nbformat_minor": 2
}
