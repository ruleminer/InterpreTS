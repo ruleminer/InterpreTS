{
 "cells": [
  {
   "cell_type": "code",
   "execution_count": 1,
   "metadata": {},
   "outputs": [],
   "source": [
    "import pandas as pd\n",
    "from interpreTS import FeatureExtractor, Features, TimeSeriesData"
   ]
  },
  {
   "cell_type": "code",
   "execution_count": 40,
   "metadata": {},
   "outputs": [
    {
     "name": "stdout",
     "output_type": "stream",
     "text": [
      "Entropy of time series: \n",
      "0    0.721928\n",
      "1    0.864974\n",
      "2    0.960964\n",
      "3    0.960964\n",
      "Name: entropy, dtype: float64\n"
     ]
    }
   ],
   "source": [
    "data = pd.Series([-3, -2, 13, -533, -10, -150, 220, 303])\n",
    "\n",
    "extractor = FeatureExtractor(features=[Features.ENTROPY])\n",
    "entropy = extractor.extract_features(data)\n",
    "print(f\"Entropy of time series: \\n{entropy[Features.ENTROPY]}\")"
   ]
  }
 ],
 "metadata": {
  "kernelspec": {
   "display_name": "Python 3",
   "language": "python",
   "name": "python3"
  },
  "language_info": {
   "codemirror_mode": {
    "name": "ipython",
    "version": 3
   },
   "file_extension": ".py",
   "mimetype": "text/x-python",
   "name": "python",
   "nbconvert_exporter": "python",
   "pygments_lexer": "ipython3",
   "version": "3.10.1"
  }
 },
 "nbformat": 4,
 "nbformat_minor": 2
}
