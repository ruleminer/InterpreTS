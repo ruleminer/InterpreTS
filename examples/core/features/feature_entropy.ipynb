{
 "cells": [
  {
   "cell_type": "code",
   "execution_count": 2,
   "metadata": {},
   "outputs": [
    {
     "name": "stderr",
     "output_type": "stream",
     "text": [
      "WARNING:interpreTS:scikit-learn is not installed. Please install it to use interpreTS.\n"
     ]
    }
   ],
   "source": [
    "import pandas as pd\n",
    "from interpreTS import FeatureExtractor"
   ]
  },
  {
   "cell_type": "code",
   "execution_count": 5,
   "metadata": {},
   "outputs": [
    {
     "name": "stdout",
     "output_type": "stream",
     "text": [
      "Entropy of time series: \n",
      "[0.9751121703183433]\n"
     ]
    }
   ],
   "source": [
    "# Create a time series\n",
    "data = pd.Series([-3, -2, 13, -533, -10, -150, 220, 303])\n",
    "\n",
    "# Extract the entropy of the time series\n",
    "extractor = FeatureExtractor(features=[\"entropy\"])\n",
    "feature = extractor.extract_features(data)\n",
    "\n",
    "# Print the entropy of the time series\n",
    "print(f\"Entropy of time series: \\n{feature['entropy_value'].tolist()}\")"
   ]
  }
 ],
 "metadata": {
  "kernelspec": {
   "display_name": "Python 3",
   "language": "python",
   "name": "python3"
  },
  "language_info": {
   "codemirror_mode": {
    "name": "ipython",
    "version": 3
   },
   "file_extension": ".py",
   "mimetype": "text/x-python",
   "name": "python",
   "nbconvert_exporter": "python",
   "pygments_lexer": "ipython3",
   "version": "3.9.13"
  }
 },
 "nbformat": 4,
 "nbformat_minor": 2
}
