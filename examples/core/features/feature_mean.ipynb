{
 "cells": [
  {
   "cell_type": "code",
   "execution_count": 2,
   "metadata": {},
   "outputs": [],
   "source": [
    "import pandas as pd\n",
    "from interpreTS import FeatureExtractor, TimeSeriesData"
   ]
  },
  {
   "cell_type": "code",
   "execution_count": 3,
   "metadata": {},
   "outputs": [
    {
     "name": "stdout",
     "output_type": "stream",
     "text": [
      "Mean value of time series: \n",
      "0    3.0\n",
      "1    4.2\n",
      "2    1.8\n",
      "3    2.4\n",
      "Name: mean, dtype: float64\n"
     ]
    }
   ],
   "source": [
    "# Data preparation\n",
    "data = pd.Series([1, 2, 3, 4, 5, 7, -10, 6])\n",
    "ts_data = TimeSeriesData(data)\n",
    "\n",
    "# Function call\n",
    "exteactor = FeatureExtractor(features=[\"mean\"])\n",
    "\n",
    "feature = exteactor.extract_features(ts_data.data)\n",
    "\n",
    "# Displaying the result\n",
    "print(f\"Mean value of time series: \\n{feature['mean']}\")\n"
   ]
  }
 ],
 "metadata": {
  "kernelspec": {
   "display_name": "Python 3",
   "language": "python",
   "name": "python3"
  },
  "language_info": {
   "codemirror_mode": {
    "name": "ipython",
    "version": 3
   },
   "file_extension": ".py",
   "mimetype": "text/x-python",
   "name": "python",
   "nbconvert_exporter": "python",
   "pygments_lexer": "ipython3",
   "version": "3.12.2"
  }
 },
 "nbformat": 4,
 "nbformat_minor": 2
}
