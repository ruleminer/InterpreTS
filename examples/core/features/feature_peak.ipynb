{
 "cells": [
  {
   "cell_type": "code",
   "execution_count": null,
   "metadata": {},
   "outputs": [],
   "source": [
    "import pandas as pd\n",
    "import sys\n",
    "import os"
   ]
  },
  {
   "cell_type": "code",
   "execution_count": 10,
   "metadata": {},
   "outputs": [
    {
     "name": "stdout",
     "output_type": "stream",
     "text": [
      "Peak of time series: 8\n",
      "Peak of specific block: 5\n"
     ]
    }
   ],
   "source": [
    "sys.path.insert(0, os.path.abspath(os.path.join(os.path.dirname('__file__'), '../../../interpreTS')))\n",
    "from core.features.feature_peak import calculate_peak\n",
    "\n",
    "# Data preparation\n",
    "data = pd.Series([1, -2, 5, 5, 3, 6, 2, 8, 7, 4])\n",
    "\n",
    "# Function call without start and end\n",
    "peak = calculate_peak(data)\n",
    "print(f\"Peak of time series: {peak}\")\n",
    "\n",
    "# Function call with start and end\n",
    "peak_with_range = calculate_peak(data, start=2, end=5)\n",
    "print(f\"Peak of specific block: {peak_with_range}\")\n"
   ]
  }
 ],
 "metadata": {
  "kernelspec": {
   "display_name": "Python 3",
   "language": "python",
   "name": "python3"
  },
  "language_info": {
   "codemirror_mode": {
    "name": "ipython",
    "version": 3
   },
   "file_extension": ".py",
   "mimetype": "text/x-python",
   "name": "python",
   "nbconvert_exporter": "python",
   "pygments_lexer": "ipython3",
   "version": "3.10.1"
  }
 },
 "nbformat": 4,
 "nbformat_minor": 2
}
