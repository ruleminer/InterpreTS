{
 "cells": [
  {
   "cell_type": "code",
   "execution_count": null,
   "metadata": {},
   "outputs": [],
   "source": [
    "import pandas as pd\n",
    "from interpreTS import FeatureExtractor\n",
    "from interpreTS.utils.data_conversion import convert_to_time_series"
   ]
  },
  {
   "cell_type": "code",
   "execution_count": 2,
   "metadata": {},
   "outputs": [
    {
     "name": "stdout",
     "output_type": "stream",
     "text": [
      "The longest flat spot length is: \n",
      "0    4\n",
      "Name: flat_spots_value, dtype: int64\n"
     ]
    }
   ],
   "source": [
    "#create a time series data\n",
    "data = pd.Series([1, 1, 1, 2, 3, 3, 4, 4, 4, 4, 4, 5, 1, 1])\n",
    "ts_data = convert_to_time_series(data)\n",
    "\n",
    "#extract the flat spots feature\n",
    "extractor = FeatureExtractor(features=[\"flat_spots\"])\n",
    "feature = extractor.extract_features(ts_data.data)\n",
    "\n",
    "#display the flat spots feature\n",
    "print(f\"The longest flat spot length is: \\n{feature['flat_spots_value']}\")"
   ]
  }
 ],
 "metadata": {
  "kernelspec": {
   "display_name": "Python 3",
   "language": "python",
   "name": "python3"
  },
  "language_info": {
   "codemirror_mode": {
    "name": "ipython",
    "version": 3
   },
   "file_extension": ".py",
   "mimetype": "text/x-python",
   "name": "python",
   "nbconvert_exporter": "python",
   "pygments_lexer": "ipython3",
   "version": "3.10.11"
  }
 },
 "nbformat": 4,
 "nbformat_minor": 2
}
