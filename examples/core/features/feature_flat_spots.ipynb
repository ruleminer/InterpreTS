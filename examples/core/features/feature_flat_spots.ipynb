{
 "cells": [
  {
   "cell_type": "code",
   "execution_count": 2,
   "metadata": {},
   "outputs": [],
   "source": [
    "import pandas as pd\n",
    "from interpreTS import FeatureExtractor, TimeSeriesData"
   ]
  },
  {
   "cell_type": "code",
   "execution_count": 3,
   "metadata": {},
   "outputs": [
    {
     "name": "stdout",
     "output_type": "stream",
     "text": [
      "The longest flat spot length is: \n",
      "0    3\n",
      "1    2\n",
      "2    2\n",
      "3    2\n",
      "4    3\n",
      "5    4\n",
      "6    5\n",
      "7    4\n",
      "8    3\n",
      "9    2\n",
      "Name: flat_spots, dtype: int64\n"
     ]
    }
   ],
   "source": [
    "#create a time series data\n",
    "data = pd.Series([1, 1, 1, 2, 3, 3, 4, 4, 4, 4, 4, 5, 1, 1])\n",
    "ts_data = TimeSeriesData(data)\n",
    "\n",
    "#extract the flat spots feature\n",
    "extractor = FeatureExtractor(features=[\"flat_spots\"])\n",
    "feature = extractor.extract_features(ts_data.data)\n",
    "\n",
    "#display the flat spots feature\n",
    "print(f\"The longest flat spot length is: \\n{feature['flat_spots']}\")"
   ]
  }
 ],
 "metadata": {
  "kernelspec": {
   "display_name": "Python 3",
   "language": "python",
   "name": "python3"
  },
  "language_info": {
   "codemirror_mode": {
    "name": "ipython",
    "version": 3
   },
   "file_extension": ".py",
   "mimetype": "text/x-python",
   "name": "python",
   "nbconvert_exporter": "python",
   "pygments_lexer": "ipython3",
   "version": "3.10.1"
  }
 },
 "nbformat": 4,
 "nbformat_minor": 2
}
