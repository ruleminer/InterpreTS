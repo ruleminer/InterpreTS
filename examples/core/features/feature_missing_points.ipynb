{
 "cells": [
  {
   "cell_type": "code",
   "execution_count": 6,
   "metadata": {},
   "outputs": [],
   "source": [
    "import pandas as pd\n",
    "from interpreTS import FeatureExtractor, TimeSeriesData"
   ]
  },
  {
   "cell_type": "code",
   "execution_count": 7,
   "metadata": {},
   "outputs": [
    {
     "name": "stdout",
     "output_type": "stream",
     "text": [
      "Missing points percentage of time series: \n",
      "0     0.4\n",
      "1     0.4\n",
      "2     0.2\n",
      "3     0.2\n",
      "4     0.4\n",
      "5     0.4\n",
      "6     0.4\n",
      "7     0.4\n",
      "8     0.4\n",
      "9     0.2\n",
      "10    0.0\n",
      "11    0.0\n",
      "Name: missing_points, dtype: float64\n",
      "Missing points count with params of time series: \n",
      "0     2\n",
      "1     2\n",
      "2     1\n",
      "3     1\n",
      "4     2\n",
      "5     2\n",
      "6     2\n",
      "7     2\n",
      "8     2\n",
      "9     1\n",
      "10    0\n",
      "11    0\n",
      "Name: missing_points, dtype: int64\n"
     ]
    }
   ],
   "source": [
    "#create a time series data\n",
    "data = pd.Series([15, None, 6, 2, None, 5, 8, 10, None, None, 12, 14, 16, 18, 20, 22])\n",
    "ts_data = TimeSeriesData(data)\n",
    "\n",
    "# Extract missing points as a percentage\n",
    "extractor1 = FeatureExtractor(features=[\"missing_points\"])\n",
    "feature1 = extractor1.extract_features(ts_data.data)\n",
    "\n",
    "# Extract missing points count\n",
    "extractor2 = FeatureExtractor(features=[\"missing_points\"], feature_params={\"missing_points\": {\"percentage\": False}})\n",
    "feature2 = extractor2.extract_features(ts_data.data)\n",
    "\n",
    "# Print results\n",
    "print(f\"Missing points percentage of time series: \\n{feature1['missing_points']}\")\n",
    "print(f\"Missing points count with params of time series: \\n{feature2['missing_points']}\")"
   ]
  }
 ],
 "metadata": {
  "kernelspec": {
   "display_name": "Python 3",
   "language": "python",
   "name": "python3"
  },
  "language_info": {
   "codemirror_mode": {
    "name": "ipython",
    "version": 3
   },
   "file_extension": ".py",
   "mimetype": "text/x-python",
   "name": "python",
   "nbconvert_exporter": "python",
   "pygments_lexer": "ipython3",
   "version": "3.10.1"
  }
 },
 "nbformat": 4,
 "nbformat_minor": 2
}
