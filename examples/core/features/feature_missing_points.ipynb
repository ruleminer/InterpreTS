{
 "cells": [
  {
   "cell_type": "code",
   "execution_count": 1,
   "metadata": {},
   "outputs": [],
   "source": [
    "import pandas as pd\n",
    "from interpreTS import FeatureExtractor, Features, TimeSeriesData"
   ]
  },
  {
   "cell_type": "code",
   "execution_count": 2,
   "metadata": {},
   "outputs": [
    {
     "name": "stdout",
     "output_type": "stream",
     "text": [
      "Missing points percentage of time series: \n",
      "0     0.4\n",
      "1     0.4\n",
      "2     0.2\n",
      "3     0.2\n",
      "4     0.4\n",
      "5     0.4\n",
      "6     0.4\n",
      "7     0.4\n",
      "8     0.4\n",
      "9     0.2\n",
      "10    0.0\n",
      "11    0.0\n",
      "Name: missing_points, dtype: float64\n",
      "Missing points count with params of time series: \n",
      "0     1\n",
      "1     2\n",
      "2     1\n",
      "3     1\n",
      "4     1\n",
      "5     1\n",
      "6     2\n",
      "7     2\n",
      "8     2\n",
      "9     1\n",
      "10    0\n",
      "11    0\n",
      "12    0\n",
      "Name: missing_points, dtype: int64\n"
     ]
    }
   ],
   "source": [
    "raw_data = pd.DataFrame({'time': pd.date_range(start=\"2023-01-01\", periods=16, freq=\"D\"),\n",
    "                         'value': [15, None, 6, 2, None, 5, 8, 10, None, None, 12, 14, 16, 18, 20, 22]})\n",
    "ts_data = TimeSeriesData(raw_data.set_index('time'))\n",
    "\n",
    "# Extract missing points as a percentage\n",
    "extractor1 = FeatureExtractor(features=[Features.MISSING_POINTS])\n",
    "feature1 = extractor1.extract_features(ts_data.data)\n",
    "\n",
    "# Extract missing points count over a specified window size\n",
    "extractor2 = FeatureExtractor(features=[Features.MISSING_POINTS], window_size=4,\n",
    "                               feature_params={\"missing_points\": {\"percentage\": False}})\n",
    "feature2 = extractor2.extract_features(ts_data.data)\n",
    "\n",
    "print(f\"Missing points percentage of time series: \\n{feature1[Features.MISSING_POINTS]}\")\n",
    "print(f\"Missing points count with params of time series: \\n{feature2[Features.MISSING_POINTS]}\")"
   ]
  }
 ],
 "metadata": {
  "kernelspec": {
   "display_name": "Python 3",
   "language": "python",
   "name": "python3"
  },
  "language_info": {
   "codemirror_mode": {
    "name": "ipython",
    "version": 3
   },
   "file_extension": ".py",
   "mimetype": "text/x-python",
   "name": "python",
   "nbconvert_exporter": "python",
   "pygments_lexer": "ipython3",
   "version": "3.10.1"
  }
 },
 "nbformat": 4,
 "nbformat_minor": 2
}
