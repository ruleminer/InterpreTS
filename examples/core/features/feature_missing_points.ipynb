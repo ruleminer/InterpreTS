{
 "cells": [
  {
   "cell_type": "code",
   "execution_count": 3,
   "metadata": {},
   "outputs": [],
   "source": [
    "import pandas as pd\n",
    "from interpreTS import FeatureExtractor, Features, TimeSeriesData"
   ]
  },
  {
   "cell_type": "code",
   "execution_count": null,
   "metadata": {},
   "outputs": [
    {
     "ename": "AttributeError",
     "evalue": "type object 'Features' has no attribute 'MISSING_POINTS'",
     "output_type": "error",
     "traceback": [
      "\u001b[1;31m---------------------------------------------------------------------------\u001b[0m",
      "\u001b[1;31mAttributeError\u001b[0m                            Traceback (most recent call last)",
      "Cell \u001b[1;32mIn[4], line 6\u001b[0m\n\u001b[0;32m      3\u001b[0m ts_data \u001b[38;5;241m=\u001b[39m TimeSeriesData(raw_data\u001b[38;5;241m.\u001b[39mset_index(\u001b[38;5;124m'\u001b[39m\u001b[38;5;124mtime\u001b[39m\u001b[38;5;124m'\u001b[39m))\n\u001b[0;32m      5\u001b[0m \u001b[38;5;66;03m# Extract missing points as a percentage\u001b[39;00m\n\u001b[1;32m----> 6\u001b[0m extractor1 \u001b[38;5;241m=\u001b[39m FeatureExtractor(features\u001b[38;5;241m=\u001b[39m[\u001b[43mFeatures\u001b[49m\u001b[38;5;241;43m.\u001b[39;49m\u001b[43mMISSING_POINTS\u001b[49m])\n\u001b[0;32m      7\u001b[0m feature1 \u001b[38;5;241m=\u001b[39m extractor1\u001b[38;5;241m.\u001b[39mextract_features(ts_data\u001b[38;5;241m.\u001b[39mdata)\n\u001b[0;32m      9\u001b[0m \u001b[38;5;66;03m# Extract missing points count over a specified window size\u001b[39;00m\n",
      "\u001b[1;31mAttributeError\u001b[0m: type object 'Features' has no attribute 'MISSING_POINTS'"
     ]
    }
   ],
   "source": [
    "raw_data = pd.DataFrame({'time': pd.date_range(start=\"2023-01-01\", periods=16, freq=\"D\"),\n",
    "                         'value': [15, None, 6, 2, None, 5, 8, 10, None, None, 12, 14, 16, 18, 20, 22]})\n",
    "ts_data = TimeSeriesData(raw_data.set_index('time'))\n",
    "\n",
    "# Extract missing points as a percentage\n",
    "extractor1 = FeatureExtractor(features=[Features.MISSING_POINTS])\n",
    "feature1 = extractor1.extract_features(ts_data.data)\n",
    "\n",
    "# Extract missing points count over a specified window size\n",
    "extractor2 = FeatureExtractor(features=[Features.MISSING_POINTS], window_size=4,\n",
    "                               feature_params={\"missing_points\": {\"percentage\": False}})\n",
    "feature2 = extractor2.extract_features(ts_data.data)\n",
    "\n",
    "print(f\"Missing points percentage of time series: \\n{feature1[Features.MISSING_POINTS]}\")\n",
    "print(f\"Missing points count with params of time series: \\n{feature2[Features.MISSING_POINTS]}\")"
   ]
  }
 ],
 "metadata": {
  "kernelspec": {
   "display_name": "Python 3",
   "language": "python",
   "name": "python3"
  },
  "language_info": {
   "codemirror_mode": {
    "name": "ipython",
    "version": 3
   },
   "file_extension": ".py",
   "mimetype": "text/x-python",
   "name": "python",
   "nbconvert_exporter": "python",
   "pygments_lexer": "ipython3",
   "version": "3.10.1"
  }
 },
 "nbformat": 4,
 "nbformat_minor": 2
}
