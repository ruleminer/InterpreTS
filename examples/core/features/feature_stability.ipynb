{
 "cells": [
  {
   "cell_type": "code",
   "execution_count": 2,
   "metadata": {},
   "outputs": [],
   "source": [
    "import pandas as pd\n",
    "from interpreTS import FeatureExtractor, TimeSeriesData"
   ]
  },
  {
   "cell_type": "code",
   "execution_count": null,
   "metadata": {},
   "outputs": [
    {
     "name": "stdout",
     "output_type": "stream",
     "text": [
      "Stability of time series: \n",
      "0    0.904521\n",
      "1    0.821891\n",
      "2    0.814360\n",
      "3    0.758704\n",
      "Name: stability, dtype: float64\n"
     ]
    }
   ],
   "source": [
    "raw_data = pd.DataFrame({'time': pd.date_range(start=\"2023-01-01\", periods=8, freq=\"D\"),\n",
    "                         'value': [15, 3, 6, 2, 1, 5, 8, 10]})\n",
    "ts_data = TimeSeriesData(raw_data.set_index('time'))\n",
    "\n",
    "#extract feature\n",
    "extractor = FeatureExtractor(features=[\"stability\"])\n",
    "feature = extractor.extract_features(ts_data.data)\n",
    "\n",
    "#display the extracted feature\n",
    "print(f\"Stability of time series: \\n{feature['stability']}\")"
   ]
  }
 ],
 "metadata": {
  "kernelspec": {
   "display_name": "Python 3",
   "language": "python",
   "name": "python3"
  },
  "language_info": {
   "codemirror_mode": {
    "name": "ipython",
    "version": 3
   },
   "file_extension": ".py",
   "mimetype": "text/x-python",
   "name": "python",
   "nbconvert_exporter": "python",
   "pygments_lexer": "ipython3",
   "version": "3.10.1"
  }
 },
 "nbformat": 4,
 "nbformat_minor": 2
}
