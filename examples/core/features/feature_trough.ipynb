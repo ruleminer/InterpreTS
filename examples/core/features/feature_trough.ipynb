{
 "cells": [
  {
   "cell_type": "code",
   "execution_count": 1,
   "metadata": {},
   "outputs": [],
   "source": [
    "import pandas as pd\n",
    "from interpreTS import FeatureExtractor, Features, TimeSeriesData"
   ]
  },
  {
   "cell_type": "code",
   "execution_count": 7,
   "metadata": {},
   "outputs": [
    {
     "name": "stdout",
     "output_type": "stream",
     "text": [
      "Troughs of time series: \n",
      "0    -3\n",
      "1    -5\n",
      "2    -5\n",
      "3   -10\n",
      "Name: trough, dtype: int64\n",
      "Troughs with params of time series: \n",
      "0   -3\n",
      "1    2\n",
      "2    1\n",
      "3   -5\n",
      "4   -5\n",
      "Name: trough, dtype: int64\n"
     ]
    }
   ],
   "source": [
    "# Extract trough feature from time series data\n",
    "raw_data = pd.DataFrame({'time': pd.date_range(start=\"2023-01-01\", periods=8, freq=\"D\"),\n",
    "                         'value': [15, -3, 6, 2, 1, -5, 8, -10]})\n",
    "ts_data = TimeSeriesData(raw_data.set_index('time'))\n",
    "\n",
    "extractor1 = FeatureExtractor(features=[Features.TROUGH])\n",
    "feature1 = extractor1.extract_features(ts_data.data)\n",
    "\n",
    "extractor2 = FeatureExtractor(features=[Features.TROUGH], window_size=4,\n",
    "                              feature_params={\"trough\": {\"start\": 1, \"end\": 3}})\n",
    "feature2 = extractor2.extract_features(ts_data.data)\n",
    "\n",
    "print(f\"Troughs of time series: \\n{feature1[Features.TROUGH]}\")\n",
    "print(f\"Troughs with params of time series: \\n{feature2[Features.TROUGH]}\")\n"
   ]
  }
 ],
 "metadata": {
  "kernelspec": {
   "display_name": "Python 3",
   "language": "python",
   "name": "python3"
  },
  "language_info": {
   "codemirror_mode": {
    "name": "ipython",
    "version": 3
   },
   "file_extension": ".py",
   "mimetype": "text/x-python",
   "name": "python",
   "nbconvert_exporter": "python",
   "pygments_lexer": "ipython3",
   "version": "3.10.1"
  }
 },
 "nbformat": 4,
 "nbformat_minor": 2
}
