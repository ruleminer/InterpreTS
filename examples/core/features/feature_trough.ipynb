{
 "cells": [
  {
   "cell_type": "code",
   "execution_count": 3,
   "metadata": {},
   "outputs": [],
   "source": [
    "import pandas as pd\n",
    "import sys\n",
    "import os"
   ]
  },
  {
   "cell_type": "code",
   "execution_count": 5,
   "metadata": {},
   "outputs": [
    {
     "name": "stdout",
     "output_type": "stream",
     "text": [
      "Trough of time series: -7\n",
      "Trough of specific block: 3\n"
     ]
    }
   ],
   "source": [
    "sys.path.insert(0, os.path.abspath(os.path.join(os.path.dirname('__file__'), '../../../interpreTS')))\n",
    "from core.features.feature_trough import calculate_trough\n",
    "\n",
    "# Data preparation\n",
    "data = pd.Series([1, -2, 5, 5, 3, 6, 2, 8, -7, 4])\n",
    "\n",
    "# Function call without start and end\n",
    "trough = calculate_trough(data)\n",
    "print(f\"Trough of time series: {trough}\")\n",
    "\n",
    "# Function call with start and end\n",
    "trough_with_range = calculate_trough(data, start=2, end=5)\n",
    "print(f\"Trough of specific block: {trough_with_range}\")\n"
   ]
  }
 ],
 "metadata": {
  "kernelspec": {
   "display_name": "Python 3",
   "language": "python",
   "name": "python3"
  },
  "language_info": {
   "codemirror_mode": {
    "name": "ipython",
    "version": 3
   },
   "file_extension": ".py",
   "mimetype": "text/x-python",
   "name": "python",
   "nbconvert_exporter": "python",
   "pygments_lexer": "ipython3",
   "version": "3.10.1"
  }
 },
 "nbformat": 4,
 "nbformat_minor": 2
}
