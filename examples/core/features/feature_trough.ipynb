{
 "cells": [
  {
   "cell_type": "code",
   "execution_count": 1,
   "metadata": {},
   "outputs": [],
   "source": [
    "import pandas as pd\n",
    "from interpreTS import FeatureExtractor, TimeSeriesData"
   ]
  },
  {
   "cell_type": "code",
   "execution_count": 3,
   "metadata": {},
   "outputs": [
    {
     "name": "stdout",
     "output_type": "stream",
     "text": [
      "Troughs of time series: \n",
      "0    -3\n",
      "1    -5\n",
      "2    -5\n",
      "3   -10\n",
      "Name: trough, dtype: int64\n"
     ]
    }
   ],
   "source": [
    "# Extract trough feature from time series data\n",
    "raw_data = pd.DataFrame({'time': pd.date_range(start=\"2023-01-01\", periods=8, freq=\"D\"),\n",
    "                         'value': [15, -3, 6, 2, 1, -5, 8, -10]})\n",
    "ts_data = TimeSeriesData(raw_data.set_index('time'))\n",
    "\n",
    "extractor = FeatureExtractor(features=[\"trough\"])\n",
    "feature = extractor.extract_features(ts_data.data)\n",
    "\n",
    "\n",
    "print(f\"Troughs of time series: \\n{feature['trough']}\")"
   ]
  }
 ],
 "metadata": {
  "kernelspec": {
   "display_name": "Python 3",
   "language": "python",
   "name": "python3"
  },
  "language_info": {
   "codemirror_mode": {
    "name": "ipython",
    "version": 3
   },
   "file_extension": ".py",
   "mimetype": "text/x-python",
   "name": "python",
   "nbconvert_exporter": "python",
   "pygments_lexer": "ipython3",
   "version": "3.10.1"
  }
 },
 "nbformat": 4,
 "nbformat_minor": 2
}
