{
 "cells": [
  {
   "cell_type": "code",
   "execution_count": 9,
   "metadata": {},
   "outputs": [],
   "source": [
    "import pandas as pd\n",
    "from interpreTS import Features, FeatureExtractor, TimeSeriesData"
   ]
  },
  {
   "cell_type": "code",
   "execution_count": 10,
   "metadata": {},
   "outputs": [
    {
     "name": "stdout",
     "output_type": "stream",
     "text": [
      "Absolute energy of time series: \n",
      "0    275\n",
      "1     75\n",
      "2    130\n",
      "3    194\n",
      "Name: absolute_energy, dtype: int64\n",
      "Absolute energy with params of time series: \n",
      "0    45\n",
      "1    40\n",
      "2     5\n",
      "3    26\n",
      "4    89\n",
      "Name: absolute_energy, dtype: int64\n"
     ]
    }
   ],
   "source": [
    "raw_data = pd.DataFrame({'time': pd.date_range(start=\"2023-01-01\", periods=8, freq=\"D\"),\n",
    "                         'value': [15, 3, 6, 2, 1, 5, 8, 10]})\n",
    "ts_data = TimeSeriesData(raw_data.set_index('time'))\n",
    "\n",
    "extractor1 = FeatureExtractor(features=[Features.ABSOLUTE_ENERGY])\n",
    "feature1 = extractor1.extract_features(ts_data.data)\n",
    "\n",
    "extractor2 = FeatureExtractor(features=[Features.ABSOLUTE_ENERGY], window_size=4,\n",
    "                              feature_params={\"absolute_energy\": {\"start\": 1, \"end\": 3}})\n",
    "feature2 = extractor2.extract_features(ts_data.data)\n",
    "\n",
    "\n",
    "print(f\"Absolute energy of time series: \\n{feature1[Features.ABSOLUTE_ENERGY]}\")\n",
    "print(f\"Absolute energy with params of time series: \\n{feature2[Features.ABSOLUTE_ENERGY]}\")"
   ]
  }
 ],
 "metadata": {
  "kernelspec": {
   "display_name": "Python 3",
   "language": "python",
   "name": "python3"
  },
  "language_info": {
   "codemirror_mode": {
    "name": "ipython",
    "version": 3
   },
   "file_extension": ".py",
   "mimetype": "text/x-python",
   "name": "python",
   "nbconvert_exporter": "python",
   "pygments_lexer": "ipython3",
   "version": "3.10.1"
  }
 },
 "nbformat": 4,
 "nbformat_minor": 2
}
