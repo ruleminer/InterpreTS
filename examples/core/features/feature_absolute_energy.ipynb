{
 "cells": [
  {
   "cell_type": "code",
   "execution_count": null,
   "metadata": {},
   "outputs": [],
   "source": [
    "import pandas as pd\n",
    "from interpreTS import FeatureExtractor"
   ]
  },
  {
   "cell_type": "code",
   "execution_count": 2,
   "metadata": {},
   "outputs": [
    {
     "name": "stdout",
     "output_type": "stream",
     "text": [
      "Warning: Failed to calculate absolute_energy for column time: Data must contain only numeric values.\n",
      "Absolute energy of time series: \n",
      "0    464\n",
      "Name: absolute_energy_value, dtype: int64\n"
     ]
    }
   ],
   "source": [
    "#create a time series data\n",
    "raw_data = pd.DataFrame({'time': pd.date_range(start=\"2023-01-01\", periods=8, freq=\"D\"),\n",
    "                         'value': [15, -3, 6, 2, 1, -5, 8, 10]})\n",
    "\n",
    "#extract absolute energy feature\n",
    "extractor = FeatureExtractor(features=[\"absolute_energy\"])\n",
    "feature = extractor.extract_features(raw_data)\n",
    "\n",
    "#display the results\n",
    "print(f\"Absolute energy of time series: \\n{feature.absolute_energy_value}\")"
   ]
  }
 ],
 "metadata": {
  "kernelspec": {
   "display_name": "Python 3",
   "language": "python",
   "name": "python3"
  },
  "language_info": {
   "codemirror_mode": {
    "name": "ipython",
    "version": 3
   },
   "file_extension": ".py",
   "mimetype": "text/x-python",
   "name": "python",
   "nbconvert_exporter": "python",
   "pygments_lexer": "ipython3",
   "version": "3.10.11"
  }
 },
 "nbformat": 4,
 "nbformat_minor": 2
}
