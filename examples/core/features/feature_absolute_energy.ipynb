{
 "cells": [
  {
   "cell_type": "code",
   "execution_count": 1,
   "metadata": {},
   "outputs": [],
   "source": [
    "import pandas as pd\n",
    "from interpreTS import FeatureExtractor, Features, TimeSeriesData"
   ]
  },
  {
   "cell_type": "code",
   "execution_count": null,
   "metadata": {},
   "outputs": [],
   "source": [
    "raw_data = pd.DataFrame({'time': pd.date_range(start=\"2023-01-01\", periods=8, freq=\"D\"),\n",
    "                         'value': [15, 3, 6, 2, 1, 5, 8, 10]})\n",
    "ts_data = TimeSeriesData(raw_data.set_index('time'))\n",
    "\n",
    "\n",
    "extractor1 = FeatureExtractor(features=[Features.ABSOLUTE_ENERGY])\n",
    "feature1 = extractor1.extract_features(ts_data.data)\n",
    "\n",
    "extractor2 = FeatureExtractor(features=[Features.ABSOLUTE_ENERGY], window_size=4,\n",
    "                              feature_params={\"absolute_energy\": {\"start\": 1, \"end\": 3}})\n",
    "feature2 = extractor2.extract_features(ts_data.data)\n",
    "\n",
    "\n",
    "print(f\"Absolute energy of time series: \\n{feature1[Features.ABSOLUTE_ENERGY]}\")\n",
    "print(f\"Absolute energy with params of time series: \\n{feature2[Features.ABSOLUTE_ENERGY]}\")"
   ]
  }
 ],
 "metadata": {
  "kernelspec": {
   "display_name": "Python 3",
   "language": "python",
   "name": "python3"
  },
  "language_info": {
   "codemirror_mode": {
    "name": "ipython",
    "version": 3
   },
   "file_extension": ".py",
   "mimetype": "text/x-python",
   "name": "python",
   "nbconvert_exporter": "python",
   "pygments_lexer": "ipython3",
   "version": "3.10.1"
  }
 },
 "nbformat": 4,
 "nbformat_minor": 2
}
