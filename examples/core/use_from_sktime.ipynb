{
 "cells": [
  {
   "cell_type": "markdown",
   "metadata": {},
   "source": [
    "Feature extraction with interpreTS\n",
    "\n",
    "In this tutorial, we show how you can use interpreTS instead of sktime with tsfresh to first extract features from time series."
   ]
  },
  {
   "cell_type": "code",
   "execution_count": 2,
   "metadata": {},
   "outputs": [
    {
     "name": "stderr",
     "output_type": "stream",
     "text": [
      "WARNING: Ignoring invalid distribution -ip (c:\\python310\\lib\\site-packages)\n",
      "WARNING: Ignoring invalid distribution -ip (c:\\python310\\lib\\site-packages)\n",
      "WARNING: Ignoring invalid distribution -ip (c:\\python310\\lib\\site-packages)\n",
      "\n",
      "[notice] A new release of pip is available: 24.2 -> 24.3.1\n",
      "[notice] To update, run: python.exe -m pip install --upgrade pip\n"
     ]
    }
   ],
   "source": [
    "!pip install --upgrade interpreTS -q"
   ]
  },
  {
   "cell_type": "code",
   "execution_count": 6,
   "metadata": {},
   "outputs": [],
   "source": [
    "import pandas as pd\n",
    "import numpy as np\n",
    "import interpreTS as it\n",
    "from sktime.datasets import load_arrow_head, load_basic_motions"
   ]
  },
  {
   "cell_type": "code",
   "execution_count": 49,
   "metadata": {},
   "outputs": [
    {
     "data": {
      "text/html": [
       "<div>\n",
       "<style scoped>\n",
       "    .dataframe tbody tr th:only-of-type {\n",
       "        vertical-align: middle;\n",
       "    }\n",
       "\n",
       "    .dataframe tbody tr th {\n",
       "        vertical-align: top;\n",
       "    }\n",
       "\n",
       "    .dataframe thead th {\n",
       "        text-align: right;\n",
       "    }\n",
       "</style>\n",
       "<table border=\"1\" class=\"dataframe\">\n",
       "  <thead>\n",
       "    <tr style=\"text-align: right;\">\n",
       "      <th></th>\n",
       "      <th></th>\n",
       "      <th>dim_0</th>\n",
       "    </tr>\n",
       "  </thead>\n",
       "  <tbody>\n",
       "    <tr>\n",
       "      <th rowspan=\"5\" valign=\"top\">0</th>\n",
       "      <th>0</th>\n",
       "      <td>-1.963009</td>\n",
       "    </tr>\n",
       "    <tr>\n",
       "      <th>1</th>\n",
       "      <td>-1.957825</td>\n",
       "    </tr>\n",
       "    <tr>\n",
       "      <th>2</th>\n",
       "      <td>-1.956145</td>\n",
       "    </tr>\n",
       "    <tr>\n",
       "      <th>3</th>\n",
       "      <td>-1.938289</td>\n",
       "    </tr>\n",
       "    <tr>\n",
       "      <th>4</th>\n",
       "      <td>-1.896657</td>\n",
       "    </tr>\n",
       "    <tr>\n",
       "      <th>...</th>\n",
       "      <th>...</th>\n",
       "      <td>...</td>\n",
       "    </tr>\n",
       "    <tr>\n",
       "      <th rowspan=\"5\" valign=\"top\">210</th>\n",
       "      <th>246</th>\n",
       "      <td>-1.513637</td>\n",
       "    </tr>\n",
       "    <tr>\n",
       "      <th>247</th>\n",
       "      <td>-1.550431</td>\n",
       "    </tr>\n",
       "    <tr>\n",
       "      <th>248</th>\n",
       "      <td>-1.581576</td>\n",
       "    </tr>\n",
       "    <tr>\n",
       "      <th>249</th>\n",
       "      <td>-1.595273</td>\n",
       "    </tr>\n",
       "    <tr>\n",
       "      <th>250</th>\n",
       "      <td>-1.620783</td>\n",
       "    </tr>\n",
       "  </tbody>\n",
       "</table>\n",
       "<p>52961 rows × 1 columns</p>\n",
       "</div>"
      ],
      "text/plain": [
       "            dim_0\n",
       "0   0   -1.963009\n",
       "    1   -1.957825\n",
       "    2   -1.956145\n",
       "    3   -1.938289\n",
       "    4   -1.896657\n",
       "...           ...\n",
       "210 246 -1.513637\n",
       "    247 -1.550431\n",
       "    248 -1.581576\n",
       "    249 -1.595273\n",
       "    250 -1.620783\n",
       "\n",
       "[52961 rows x 1 columns]"
      ]
     },
     "execution_count": 49,
     "metadata": {},
     "output_type": "execute_result"
    }
   ],
   "source": [
    "X, y = load_arrow_head(return_type=\"pd-multiindex\")\n",
    "X"
   ]
  },
  {
   "cell_type": "markdown",
   "metadata": {},
   "source": [
    "Using interpreTS to extract features"
   ]
  },
  {
   "cell_type": "code",
   "execution_count": 46,
   "metadata": {},
   "outputs": [
    {
     "data": {
      "text/html": [
       "<div>\n",
       "<style scoped>\n",
       "    .dataframe tbody tr th:only-of-type {\n",
       "        vertical-align: middle;\n",
       "    }\n",
       "\n",
       "    .dataframe tbody tr th {\n",
       "        vertical-align: top;\n",
       "    }\n",
       "\n",
       "    .dataframe thead th {\n",
       "        text-align: right;\n",
       "    }\n",
       "</style>\n",
       "<table border=\"1\" class=\"dataframe\">\n",
       "  <thead>\n",
       "    <tr style=\"text-align: right;\">\n",
       "      <th></th>\n",
       "      <th>length_dim_0</th>\n",
       "      <th>mean_dim_0</th>\n",
       "      <th>variance_dim_0</th>\n",
       "      <th>stability_dim_0</th>\n",
       "      <th>entropy_dim_0</th>\n",
       "      <th>spikeness_dim_0</th>\n",
       "      <th>seasonality_strength_dim_0</th>\n",
       "    </tr>\n",
       "  </thead>\n",
       "  <tbody>\n",
       "    <tr>\n",
       "      <th>0</th>\n",
       "      <td>250</td>\n",
       "      <td>0.007637</td>\n",
       "      <td>0.989320</td>\n",
       "      <td>0.585335</td>\n",
       "      <td>0.998252</td>\n",
       "      <td>-0.115846</td>\n",
       "      <td>0.960551</td>\n",
       "    </tr>\n",
       "    <tr>\n",
       "      <th>1</th>\n",
       "      <td>250</td>\n",
       "      <td>0.006623</td>\n",
       "      <td>0.993089</td>\n",
       "      <td>0.569301</td>\n",
       "      <td>0.998632</td>\n",
       "      <td>-0.203730</td>\n",
       "      <td>0.968274</td>\n",
       "    </tr>\n",
       "    <tr>\n",
       "      <th>2</th>\n",
       "      <td>250</td>\n",
       "      <td>0.008030</td>\n",
       "      <td>0.987903</td>\n",
       "      <td>0.574168</td>\n",
       "      <td>0.999445</td>\n",
       "      <td>-0.153817</td>\n",
       "      <td>0.966565</td>\n",
       "    </tr>\n",
       "    <tr>\n",
       "      <th>3</th>\n",
       "      <td>250</td>\n",
       "      <td>0.010465</td>\n",
       "      <td>0.978140</td>\n",
       "      <td>0.595168</td>\n",
       "      <td>0.999721</td>\n",
       "      <td>-0.134954</td>\n",
       "      <td>0.958287</td>\n",
       "    </tr>\n",
       "    <tr>\n",
       "      <th>4</th>\n",
       "      <td>250</td>\n",
       "      <td>0.002154</td>\n",
       "      <td>1.010164</td>\n",
       "      <td>0.572479</td>\n",
       "      <td>0.999721</td>\n",
       "      <td>-0.096097</td>\n",
       "      <td>0.965729</td>\n",
       "    </tr>\n",
       "  </tbody>\n",
       "</table>\n",
       "</div>"
      ],
      "text/plain": [
       "   length_dim_0  mean_dim_0  variance_dim_0  stability_dim_0  entropy_dim_0  \\\n",
       "0           250    0.007637        0.989320         0.585335       0.998252   \n",
       "1           250    0.006623        0.993089         0.569301       0.998632   \n",
       "2           250    0.008030        0.987903         0.574168       0.999445   \n",
       "3           250    0.010465        0.978140         0.595168       0.999721   \n",
       "4           250    0.002154        1.010164         0.572479       0.999721   \n",
       "\n",
       "   spikeness_dim_0  seasonality_strength_dim_0  \n",
       "0        -0.115846                    0.960551  \n",
       "1        -0.203730                    0.968274  \n",
       "2        -0.153817                    0.966565  \n",
       "3        -0.134954                    0.958287  \n",
       "4        -0.096097                    0.965729  "
      ]
     },
     "execution_count": 46,
     "metadata": {},
     "output_type": "execute_result"
    }
   ],
   "source": [
    "t = it.FeatureExtractor(window_size=250, stride=250)\n",
    "Xt = t.extract_features(X)\n",
    "Xt.head()"
   ]
  },
  {
   "cell_type": "markdown",
   "metadata": {},
   "source": [
    "Multivariate time series classification data"
   ]
  },
  {
   "cell_type": "code",
   "execution_count": 27,
   "metadata": {},
   "outputs": [
    {
     "data": {
      "text/html": [
       "<div>\n",
       "<style scoped>\n",
       "    .dataframe tbody tr th:only-of-type {\n",
       "        vertical-align: middle;\n",
       "    }\n",
       "\n",
       "    .dataframe tbody tr th {\n",
       "        vertical-align: top;\n",
       "    }\n",
       "\n",
       "    .dataframe thead th {\n",
       "        text-align: right;\n",
       "    }\n",
       "</style>\n",
       "<table border=\"1\" class=\"dataframe\">\n",
       "  <thead>\n",
       "    <tr style=\"text-align: right;\">\n",
       "      <th></th>\n",
       "      <th></th>\n",
       "      <th>dim_0</th>\n",
       "      <th>dim_1</th>\n",
       "      <th>dim_2</th>\n",
       "      <th>dim_3</th>\n",
       "      <th>dim_4</th>\n",
       "      <th>dim_5</th>\n",
       "    </tr>\n",
       "  </thead>\n",
       "  <tbody>\n",
       "    <tr>\n",
       "      <th rowspan=\"5\" valign=\"top\">0</th>\n",
       "      <th>0</th>\n",
       "      <td>0.079106</td>\n",
       "      <td>0.394032</td>\n",
       "      <td>0.551444</td>\n",
       "      <td>0.351565</td>\n",
       "      <td>0.023970</td>\n",
       "      <td>0.633883</td>\n",
       "    </tr>\n",
       "    <tr>\n",
       "      <th>1</th>\n",
       "      <td>0.079106</td>\n",
       "      <td>0.394032</td>\n",
       "      <td>0.551444</td>\n",
       "      <td>0.351565</td>\n",
       "      <td>0.023970</td>\n",
       "      <td>0.633883</td>\n",
       "    </tr>\n",
       "    <tr>\n",
       "      <th>2</th>\n",
       "      <td>-0.903497</td>\n",
       "      <td>-3.666397</td>\n",
       "      <td>-0.282844</td>\n",
       "      <td>-0.095881</td>\n",
       "      <td>-0.319605</td>\n",
       "      <td>0.972131</td>\n",
       "    </tr>\n",
       "    <tr>\n",
       "      <th>3</th>\n",
       "      <td>1.116125</td>\n",
       "      <td>-0.656101</td>\n",
       "      <td>0.333118</td>\n",
       "      <td>1.624657</td>\n",
       "      <td>-0.569962</td>\n",
       "      <td>1.209171</td>\n",
       "    </tr>\n",
       "    <tr>\n",
       "      <th>4</th>\n",
       "      <td>1.638200</td>\n",
       "      <td>1.405135</td>\n",
       "      <td>0.393875</td>\n",
       "      <td>1.187864</td>\n",
       "      <td>-0.271664</td>\n",
       "      <td>1.739182</td>\n",
       "    </tr>\n",
       "  </tbody>\n",
       "</table>\n",
       "</div>"
      ],
      "text/plain": [
       "        dim_0     dim_1     dim_2     dim_3     dim_4     dim_5\n",
       "0 0  0.079106  0.394032  0.551444  0.351565  0.023970  0.633883\n",
       "  1  0.079106  0.394032  0.551444  0.351565  0.023970  0.633883\n",
       "  2 -0.903497 -3.666397 -0.282844 -0.095881 -0.319605  0.972131\n",
       "  3  1.116125 -0.656101  0.333118  1.624657 -0.569962  1.209171\n",
       "  4  1.638200  1.405135  0.393875  1.187864 -0.271664  1.739182"
      ]
     },
     "execution_count": 27,
     "metadata": {},
     "output_type": "execute_result"
    }
   ],
   "source": [
    "X2, y2 = load_basic_motions(return_type=\"pd-multiindex\")\n",
    "X2.head()"
   ]
  },
  {
   "cell_type": "code",
   "execution_count": 28,
   "metadata": {},
   "outputs": [
    {
     "name": "stdout",
     "output_type": "stream",
     "text": [
      "   length_dim_0  length_dim_1  length_dim_2  length_dim_3  length_dim_4  \\\n",
      "0          8000          8000          8000          8000          8000   \n",
      "\n",
      "   length_dim_5  mean_dim_0  mean_dim_1  mean_dim_2  mean_dim_3  ...  \\\n",
      "0          8000    2.458651   -1.342251   -1.037569    -0.00009  ...   \n",
      "\n",
      "   spikeness_dim_2  spikeness_dim_3  spikeness_dim_4  spikeness_dim_5  \\\n",
      "0        -1.391305          0.43248        -0.612403        -0.966188   \n",
      "\n",
      "   seasonality_strength_dim_0  seasonality_strength_dim_1  \\\n",
      "0                    0.145926                    0.047775   \n",
      "\n",
      "   seasonality_strength_dim_2  seasonality_strength_dim_3  \\\n",
      "0                    0.144604                    0.106241   \n",
      "\n",
      "   seasonality_strength_dim_4  seasonality_strength_dim_5  \n",
      "0                    0.121739                    0.095393  \n",
      "\n",
      "[1 rows x 42 columns]\n"
     ]
    }
   ],
   "source": [
    "t2 = it.FeatureExtractor()\n",
    "Xt2 = t2.extract_features(X2)\n",
    "print(Xt2.head())"
   ]
  },
  {
   "cell_type": "code",
   "execution_count": null,
   "metadata": {},
   "outputs": [],
   "source": []
  }
 ],
 "metadata": {
  "kernelspec": {
   "display_name": "Python 3",
   "language": "python",
   "name": "python3"
  },
  "language_info": {
   "codemirror_mode": {
    "name": "ipython",
    "version": 3
   },
   "file_extension": ".py",
   "mimetype": "text/x-python",
   "name": "python",
   "nbconvert_exporter": "python",
   "pygments_lexer": "ipython3",
   "version": "3.10.1"
  }
 },
 "nbformat": 4,
 "nbformat_minor": 2
}
