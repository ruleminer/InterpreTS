{
 "cells": [
  {
   "cell_type": "code",
   "execution_count": null,
   "metadata": {},
   "outputs": [
    {
     "name": "stdout",
     "output_type": "stream",
     "text": [
      "Requirement already satisfied: pandas in c:\\users\\slawek\\appdata\\local\\programs\\python\\python39\\lib\\site-packages (1.2.0)\n",
      "Requirement already satisfied: python-dateutil>=2.7.3 in c:\\users\\slawek\\appdata\\local\\programs\\python\\python39\\lib\\site-packages (from pandas) (2.9.0.post0)\n",
      "Requirement already satisfied: pytz>=2017.3 in c:\\users\\slawek\\appdata\\local\\programs\\python\\python39\\lib\\site-packages (from pandas) (2024.1)\n",
      "Requirement already satisfied: numpy>=1.16.5 in c:\\users\\slawek\\appdata\\local\\programs\\python\\python39\\lib\\site-packages (from pandas) (1.23.5)\n",
      "Requirement already satisfied: six>=1.5 in c:\\users\\slawek\\appdata\\local\\programs\\python\\python39\\lib\\site-packages (from python-dateutil>=2.7.3->pandas) (1.16.0)\n",
      "Note: you may need to restart the kernel to use updated packages.\n"
     ]
    },
    {
     "name": "stderr",
     "output_type": "stream",
     "text": [
      "WARNING: Ignoring invalid distribution -atplotlib (c:\\users\\slawek\\appdata\\local\\programs\\python\\python39\\lib\\site-packages)\n",
      "WARNING: Ignoring invalid distribution -atplotlib (c:\\users\\slawek\\appdata\\local\\programs\\python\\python39\\lib\\site-packages)\n",
      "WARNING: Ignoring invalid distribution -atplotlib (c:\\users\\slawek\\appdata\\local\\programs\\python\\python39\\lib\\site-packages)\n"
     ]
    }
   ],
   "source": [
    "pip install pandas # type: ignore"
   ]
  },
  {
   "cell_type": "code",
   "execution_count": 2,
   "metadata": {},
   "outputs": [
    {
     "name": "stdout",
     "output_type": "stream",
     "text": [
      "Resampled Data:\n",
      " 2023-01-01    4.0\n",
      "2023-01-03    4.0\n",
      "2023-01-05    5.5\n",
      "2023-01-07    5.5\n",
      "2023-01-09    5.0\n",
      "Freq: 2D, dtype: float64\n",
      "\n",
      "Features from Original Data:\n",
      "{'length': 10}\n",
      "\n",
      "Features from Resampled Data:\n",
      "{'length': 5}\n"
     ]
    },
    {
     "name": "stderr",
     "output_type": "stream",
     "text": [
      "c:\\Users\\slawek\\Desktop\\Praca naukowa\\InterpreTS\\src\\core\\time_series_data.py:53: FutureWarning: Index.is_all_dates is deprecated, will be removed in a future version.  check index.inferred_type instead\n",
      "  if isinstance(self.data, pd.Series) and self.data.index.is_all_dates:\n"
     ]
    }
   ],
   "source": [
    "# Importy\n",
    "import pandas as pd\n",
    "import sys\n",
    "import os\n",
    "\n",
    "# Adding path to src directory so notebook can import modules\n",
    "sys.path.insert(0, os.path.abspath(os.path.join(os.path.dirname('__file__'), '../../src')))\n",
    "from core.time_series_data import TimeSeriesData\n",
    "from core.feature_extractor import FeatureExtractor\n",
    "\n",
    "# Creating sample time data with time index\n",
    "data_with_date = pd.Series(\n",
    "    [5, 3, 6, 2, 7, 4, 8, 3, 9, 1],\n",
    "    index=pd.date_range(\"2023-01-01\", periods=10, freq=\"D\")\n",
    ")\n",
    "\n",
    "# TimeSeriesData object initialization\n",
    "ts_data = TimeSeriesData(data_with_date)\n",
    "\n",
    "# Resampling data to a two-day interval\n",
    "resampled_ts_data = ts_data.resample(\"2D\")\n",
    "print(\"Resampled Data:\\n\", resampled_ts_data.data)\n",
    "\n",
    "# Extraction of several features from the original data\n",
    "extractor = FeatureExtractor(features=['length'])  # Możesz dodać więcej cech w przyszłości\n",
    "\n",
    "# Invoking the feature extractor on the original data\n",
    "features_original = extractor.extract_features(ts_data.data)\n",
    "print(\"\\nFeatures from Original Data:\")\n",
    "print(features_original)\n",
    "\n",
    "# Calling the feature extractor on the resampled data\n",
    "features_resampled = extractor.extract_features(resampled_ts_data.data)\n",
    "print(\"\\nFeatures from Resampled Data:\")\n",
    "print(features_resampled)\n"
   ]
  }
 ],
 "metadata": {
  "kernelspec": {
   "display_name": "Python 3",
   "language": "python",
   "name": "python3"
  },
  "language_info": {
   "codemirror_mode": {
    "name": "ipython",
    "version": 3
   },
   "file_extension": ".py",
   "mimetype": "text/x-python",
   "name": "python",
   "nbconvert_exporter": "python",
   "pygments_lexer": "ipython3",
   "version": "3.9.13"
  }
 },
 "nbformat": 4,
 "nbformat_minor": 2
}
