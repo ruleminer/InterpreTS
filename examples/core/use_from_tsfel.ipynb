{
 "cells": [
  {
   "cell_type": "markdown",
   "metadata": {},
   "source": [
    "# Feature extraction with interpreTS\n",
    "\n",
    "In this tutorial, we show how you can use interpreTS instead of tsfel to extract features from time series and use them for classification."
   ]
  },
  {
   "cell_type": "code",
   "execution_count": 65,
   "metadata": {},
   "outputs": [
    {
     "name": "stdout",
     "output_type": "stream",
     "text": [
      "Defaulting to user installation because normal site-packages is not writeable\n",
      "Requirement already satisfied: wget in c:\\users\\jayke\\appdata\\roaming\\python\\python312\\site-packages (3.2)\n"
     ]
    },
    {
     "name": "stderr",
     "output_type": "stream",
     "text": [
      "\n",
      "[notice] A new release of pip is available: 24.2 -> 24.3.1\n",
      "[notice] To update, run: python.exe -m pip install --upgrade pip\n"
     ]
    }
   ],
   "source": [
    "from sys import platform\n",
    "\n",
    "if platform == \"linux\" or platform == \"linux2\":\n",
    "    !wget http://archive.ics.uci.edu/ml/machine-learning-databases/00240/UCI%20HAR%20Dataset.zip >/dev/null 2>&1\n",
    "else:\n",
    "    !pip install wget\n",
    "    import wget\n",
    "\n",
    "    wget.download(\"http://archive.ics.uci.edu/ml/machine-learning-databases/00240/UCI HAR Dataset.zip\")"
   ]
  },
  {
   "cell_type": "code",
   "execution_count": 66,
   "metadata": {},
   "outputs": [],
   "source": [
    "import zipfile\n",
    "import numpy as np\n",
    "import pandas as pd\n",
    "import seaborn as sns\n",
    "from matplotlib import pyplot as plt\n",
    "from sklearn import preprocessing\n",
    "from sklearn.ensemble import RandomForestClassifier\n",
    "from sklearn.feature_selection import VarianceThreshold\n",
    "from sklearn.metrics import accuracy_score, classification_report, confusion_matrix\n",
    "\n",
    "import interpreTS as it\n",
    "\n",
    "sns.set()\n",
    "\n",
    "# Unzip dataset\n",
    "zip_ref = zipfile.ZipFile(\"UCI HAR Dataset.zip\", \"r\")\n",
    "zip_ref.extractall()\n",
    "zip_ref.close()"
   ]
  },
  {
   "cell_type": "code",
   "execution_count": 67,
   "metadata": {},
   "outputs": [
    {
     "data": {
      "text/html": [
       "<div>\n",
       "<style scoped>\n",
       "    .dataframe tbody tr th:only-of-type {\n",
       "        vertical-align: middle;\n",
       "    }\n",
       "\n",
       "    .dataframe tbody tr th {\n",
       "        vertical-align: top;\n",
       "    }\n",
       "\n",
       "    .dataframe thead th {\n",
       "        text-align: right;\n",
       "    }\n",
       "</style>\n",
       "<table border=\"1\" class=\"dataframe\">\n",
       "  <thead>\n",
       "    <tr style=\"text-align: right;\">\n",
       "      <th></th>\n",
       "      <th>value</th>\n",
       "    </tr>\n",
       "  </thead>\n",
       "  <tbody>\n",
       "    <tr>\n",
       "      <th>0</th>\n",
       "      <td>1.012817</td>\n",
       "    </tr>\n",
       "    <tr>\n",
       "      <th>1</th>\n",
       "      <td>1.022833</td>\n",
       "    </tr>\n",
       "    <tr>\n",
       "      <th>2</th>\n",
       "      <td>1.022028</td>\n",
       "    </tr>\n",
       "    <tr>\n",
       "      <th>3</th>\n",
       "      <td>1.017877</td>\n",
       "    </tr>\n",
       "    <tr>\n",
       "      <th>4</th>\n",
       "      <td>1.023680</td>\n",
       "    </tr>\n",
       "    <tr>\n",
       "      <th>...</th>\n",
       "      <td>...</td>\n",
       "    </tr>\n",
       "    <tr>\n",
       "      <th>941051</th>\n",
       "      <td>0.991497</td>\n",
       "    </tr>\n",
       "    <tr>\n",
       "      <th>941052</th>\n",
       "      <td>0.945067</td>\n",
       "    </tr>\n",
       "    <tr>\n",
       "      <th>941053</th>\n",
       "      <td>0.898095</td>\n",
       "    </tr>\n",
       "    <tr>\n",
       "      <th>941054</th>\n",
       "      <td>0.828372</td>\n",
       "    </tr>\n",
       "    <tr>\n",
       "      <th>941055</th>\n",
       "      <td>0.800243</td>\n",
       "    </tr>\n",
       "  </tbody>\n",
       "</table>\n",
       "<p>941056 rows × 1 columns</p>\n",
       "</div>"
      ],
      "text/plain": [
       "           value\n",
       "0       1.012817\n",
       "1       1.022833\n",
       "2       1.022028\n",
       "3       1.017877\n",
       "4       1.023680\n",
       "...          ...\n",
       "941051  0.991497\n",
       "941052  0.945067\n",
       "941053  0.898095\n",
       "941054  0.828372\n",
       "941055  0.800243\n",
       "\n",
       "[941056 rows x 1 columns]"
      ]
     },
     "execution_count": 67,
     "metadata": {},
     "output_type": "execute_result"
    }
   ],
   "source": [
    "x_train_sig = pd.DataFrame(np.loadtxt(\"UCI HAR Dataset/train/Inertial Signals/total_acc_x_train.txt\", dtype=\"float32\")).stack().reset_index(name='value').drop(columns=['level_1', 'level_0'])\n",
    "x_test_sig = pd.DataFrame(np.loadtxt(\"UCI HAR Dataset/test/Inertial Signals/total_acc_x_test.txt\", dtype=\"float32\")).stack().reset_index(name='value').drop(columns=['level_1', 'level_0'])\n",
    "y_test = np.loadtxt(\"UCI HAR Dataset/test/y_test.txt\")\n",
    "y_train = np.loadtxt(\"UCI HAR Dataset/train/y_train.txt\")\n",
    "activity_labels = np.array(pd.read_csv(\"UCI HAR Dataset/activity_labels.txt\", header=None, delimiter=\" \"))[:, 1]\n",
    "x_train_sig"
   ]
  },
  {
   "cell_type": "markdown",
   "metadata": {},
   "source": [
    "# Extracting features"
   ]
  },
  {
   "cell_type": "code",
   "execution_count": 68,
   "metadata": {},
   "outputs": [
    {
     "data": {
      "text/html": [
       "<div>\n",
       "<style scoped>\n",
       "    .dataframe tbody tr th:only-of-type {\n",
       "        vertical-align: middle;\n",
       "    }\n",
       "\n",
       "    .dataframe tbody tr th {\n",
       "        vertical-align: top;\n",
       "    }\n",
       "\n",
       "    .dataframe thead th {\n",
       "        text-align: right;\n",
       "    }\n",
       "</style>\n",
       "<table border=\"1\" class=\"dataframe\">\n",
       "  <thead>\n",
       "    <tr style=\"text-align: right;\">\n",
       "      <th></th>\n",
       "      <th>length_value</th>\n",
       "      <th>mean_value</th>\n",
       "      <th>variance_value</th>\n",
       "      <th>stability_value</th>\n",
       "      <th>entropy_value</th>\n",
       "      <th>spikeness_value</th>\n",
       "      <th>seasonality_strength_value</th>\n",
       "    </tr>\n",
       "  </thead>\n",
       "  <tbody>\n",
       "    <tr>\n",
       "      <th>0</th>\n",
       "      <td>128</td>\n",
       "      <td>1.019305</td>\n",
       "      <td>0.000003</td>\n",
       "      <td>0.940982</td>\n",
       "      <td>0.898926</td>\n",
       "      <td>-0.282135</td>\n",
       "      <td>0.045686</td>\n",
       "    </tr>\n",
       "    <tr>\n",
       "      <th>1</th>\n",
       "      <td>128</td>\n",
       "      <td>1.019448</td>\n",
       "      <td>0.000004</td>\n",
       "      <td>0.919031</td>\n",
       "      <td>0.911930</td>\n",
       "      <td>-0.400059</td>\n",
       "      <td>0.104132</td>\n",
       "    </tr>\n",
       "    <tr>\n",
       "      <th>2</th>\n",
       "      <td>128</td>\n",
       "      <td>1.019927</td>\n",
       "      <td>0.000008</td>\n",
       "      <td>0.888929</td>\n",
       "      <td>0.897870</td>\n",
       "      <td>-0.571735</td>\n",
       "      <td>0.049088</td>\n",
       "    </tr>\n",
       "    <tr>\n",
       "      <th>3</th>\n",
       "      <td>128</td>\n",
       "      <td>1.020349</td>\n",
       "      <td>0.000007</td>\n",
       "      <td>0.873804</td>\n",
       "      <td>0.862434</td>\n",
       "      <td>-0.820611</td>\n",
       "      <td>0.034890</td>\n",
       "    </tr>\n",
       "    <tr>\n",
       "      <th>4</th>\n",
       "      <td>128</td>\n",
       "      <td>1.020255</td>\n",
       "      <td>0.000004</td>\n",
       "      <td>0.900455</td>\n",
       "      <td>0.904267</td>\n",
       "      <td>-0.223113</td>\n",
       "      <td>0.147487</td>\n",
       "    </tr>\n",
       "  </tbody>\n",
       "</table>\n",
       "</div>"
      ],
      "text/plain": [
       "   length_value  mean_value  variance_value  stability_value  entropy_value  \\\n",
       "0           128    1.019305        0.000003         0.940982       0.898926   \n",
       "1           128    1.019448        0.000004         0.919031       0.911930   \n",
       "2           128    1.019927        0.000008         0.888929       0.897870   \n",
       "3           128    1.020349        0.000007         0.873804       0.862434   \n",
       "4           128    1.020255        0.000004         0.900455       0.904267   \n",
       "\n",
       "   spikeness_value  seasonality_strength_value  \n",
       "0        -0.282135                    0.045686  \n",
       "1        -0.400059                    0.104132  \n",
       "2        -0.571735                    0.049088  \n",
       "3        -0.820611                    0.034890  \n",
       "4        -0.223113                    0.147487  "
      ]
     },
     "execution_count": 68,
     "metadata": {},
     "output_type": "execute_result"
    }
   ],
   "source": [
    "extractor = it.FeatureExtractor(window_size=128, stride=128)\n",
    "train_features = extractor.extract_features(x_train_sig)\n",
    "test_features = extractor.extract_features(x_test_sig)\n",
    "train_features.head()"
   ]
  },
  {
   "cell_type": "markdown",
   "metadata": {},
   "source": [
    "# Classification"
   ]
  },
  {
   "cell_type": "code",
   "execution_count": 69,
   "metadata": {},
   "outputs": [],
   "source": [
    "selector = VarianceThreshold()\n",
    "train_features = selector.fit_transform(train_features)\n",
    "test_features = selector.transform(test_features)\n",
    "\n",
    "scaler = preprocessing.StandardScaler()\n",
    "train_features = scaler.fit_transform(train_features)\n",
    "test_features = scaler.transform(test_features)"
   ]
  },
  {
   "cell_type": "code",
   "execution_count": 70,
   "metadata": {},
   "outputs": [
    {
     "name": "stdout",
     "output_type": "stream",
     "text": [
      "Accuracy: 0.7926705123854768\n",
      "                    precision    recall  f1-score   support\n",
      "\n",
      "           WALKING       0.78      0.94      0.85       496\n",
      "  WALKING_UPSTAIRS       0.85      0.74      0.79       471\n",
      "WALKING_DOWNSTAIRS       0.89      0.81      0.85       420\n",
      "           SITTING       0.64      0.53      0.58       491\n",
      "          STANDING       0.63      0.73      0.67       532\n",
      "            LAYING       1.00      1.00      1.00       537\n",
      "\n",
      "          accuracy                           0.79      2947\n",
      "         macro avg       0.80      0.79      0.79      2947\n",
      "      weighted avg       0.80      0.79      0.79      2947\n",
      "\n"
     ]
    }
   ],
   "source": [
    "classifier = RandomForestClassifier()\n",
    "\n",
    "classifier.fit(train_features, y_train.ravel())\n",
    "\n",
    "# Predict test data\n",
    "y_test_predict = classifier.predict(test_features)\n",
    "\n",
    "# Get the classification report\n",
    "print(\"Accuracy:\", accuracy_score(y_test, y_test_predict))\n",
    "print(classification_report(y_test, y_test_predict, target_names=activity_labels))"
   ]
  },
  {
   "cell_type": "markdown",
   "metadata": {},
   "source": [
    "# Prediction visualization"
   ]
  },
  {
   "cell_type": "code",
   "execution_count": 71,
   "metadata": {},
   "outputs": [
    {
     "data": {
      "image/png": "[encoded data removed]",
      "text/plain": [
       "<Figure size 640x480 with 1 Axes>"
      ]
     },
     "metadata": {},
     "output_type": "display_data"
    }
   ],
   "source": [
    "cm = confusion_matrix(y_test, y_test_predict)\n",
    "df_cm = pd.DataFrame(cm, index=[i for i in activity_labels], columns=[i for i in activity_labels])\n",
    "plt.figure()\n",
    "ax = sns.heatmap(df_cm, cbar=False, cmap=\"BuGn\", annot=True, fmt=\"d\")\n",
    "plt.setp(ax.get_xticklabels(), rotation=45)\n",
    "\n",
    "plt.ylabel(\"True label\", fontweight=\"bold\", fontsize=18)\n",
    "plt.xlabel(\"Predicted label\", fontweight=\"bold\", fontsize=18)\n",
    "bottom, top = ax.get_ylim()\n",
    "plt.show()"
   ]
  },
  {
   "cell_type": "code",
   "execution_count": null,
   "metadata": {},
   "outputs": [],
   "source": []
  }
 ],
 "metadata": {
  "kernelspec": {
   "display_name": "Python 3",
   "language": "python",
   "name": "python3"
  },
  "language_info": {
   "codemirror_mode": {
    "name": "ipython",
    "version": 3
   },
   "file_extension": ".py",
   "mimetype": "text/x-python",
   "name": "python",
   "nbconvert_exporter": "python",
   "pygments_lexer": "ipython3",
   "version": "3.12.6"
  }
 },
 "nbformat": 4,
 "nbformat_minor": 2
}
