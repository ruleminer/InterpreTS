{
 "cells": [
  {
   "cell_type": "code",
   "execution_count": null,
   "metadata": {},
   "outputs": [
    {
     "name": "stdout",
     "output_type": "stream",
     "text": [
      "Requirement already satisfied: pandas in c:\\users\\slawek\\appdata\\local\\programs\\python\\python39\\lib\\site-packages (1.2.0)\n",
      "Requirement already satisfied: python-dateutil>=2.7.3 in c:\\users\\slawek\\appdata\\local\\programs\\python\\python39\\lib\\site-packages (from pandas) (2.9.0.post0)\n",
      "Requirement already satisfied: pytz>=2017.3 in c:\\users\\slawek\\appdata\\local\\programs\\python\\python39\\lib\\site-packages (from pandas) (2024.1)\n",
      "Requirement already satisfied: numpy>=1.16.5 in c:\\users\\slawek\\appdata\\local\\programs\\python\\python39\\lib\\site-packages (from pandas) (1.23.5)\n",
      "Requirement already satisfied: six>=1.5 in c:\\users\\slawek\\appdata\\local\\programs\\python\\python39\\lib\\site-packages (from python-dateutil>=2.7.3->pandas) (1.16.0)\n",
      "Note: you may need to restart the kernel to use updated packages.\n"
     ]
    },
    {
     "name": "stderr",
     "output_type": "stream",
     "text": [
      "WARNING: Ignoring invalid distribution -atplotlib (c:\\users\\slawek\\appdata\\local\\programs\\python\\python39\\lib\\site-packages)\n",
      "WARNING: Ignoring invalid distribution -atplotlib (c:\\users\\slawek\\appdata\\local\\programs\\python\\python39\\lib\\site-packages)\n",
      "WARNING: Ignoring invalid distribution -atplotlib (c:\\users\\slawek\\appdata\\local\\programs\\python\\python39\\lib\\site-packages)\n"
     ]
    }
   ],
   "source": [
    "pip install pandas # type: ignore"
   ]
  },
  {
   "cell_type": "code",
   "execution_count": 1,
   "metadata": {},
   "outputs": [
    {
     "name": "stdout",
     "output_type": "stream",
     "text": [
      "Training Data:\n",
      " 2023-01-01    1\n",
      "2023-01-02    2\n",
      "2023-01-03    3\n",
      "2023-01-04    4\n",
      "2023-01-05    5\n",
      "2023-01-06    6\n",
      "2023-01-07    7\n",
      "Freq: D, dtype: int64\n",
      "Test Data:\n",
      " 2023-01-08     8\n",
      "2023-01-09     9\n",
      "2023-01-10    10\n",
      "Freq: D, dtype: int64\n",
      "\n",
      "Extracted Features:\n",
      "Length of the time series: 0    5\n",
      "1    5\n",
      "2    5\n",
      "3    5\n",
      "4    5\n",
      "5    5\n",
      "Name: length, dtype: int64\n"
     ]
    }
   ],
   "source": [
    "import pandas as pd\n",
    "import sys\n",
    "import os\n",
    "\n",
    "# Adding path to interpreTS directory so notebook can import modules\n",
    "sys.path.insert(0, os.path.abspath(os.path.join(os.path.dirname('__file__'), '../../interpreTS')))\n",
    "from core.feature_extractor import FeatureExtractor\n",
    "from interpreTS.utils.data_conversion import convert_to_time_series\n",
    "from interpreTS.utils.data_validation import validate_time_series_data\n",
    "\n",
    "# Creating Sample Time Series Data\n",
    "data = pd.Series([1, 2, 3, 4, 5, 6, 7, 8, 9, 10], index=pd.date_range(\"2023-01-01\", periods=10))\n",
    "\n",
    "# Validating data before further processing\n",
    "try:\n",
    "    validate_time_series_data(data)\n",
    "except (TypeError, ValueError) as e:\n",
    "    print(f\"Validation error: {e}\")\n",
    "\n",
    "# Converting data to TimeSeriesData object\n",
    "ts_data = convert_to_time_series(data)\n",
    "\n",
    "# Splitting the data into training and test sets\n",
    "train_data, test_data = ts_data.split(0.7)\n",
    "print(\"Training Data:\\n\", train_data.data)\n",
    "print(\"Test Data:\\n\", test_data.data)\n",
    "\n",
    "# Feature extractor initialization\n",
    "extractor = FeatureExtractor(features=['length'])\n",
    "\n",
    "# Extracting features from data\n",
    "features = extractor.extract_features(ts_data.data)\n",
    "\n",
    "# Displaying results\n",
    "print(\"\\nExtracted Features:\")\n",
    "print(\"Length of the time series:\", features['length'])\n"
   ]
  },
  {
   "cell_type": "code",
   "execution_count": null,
   "metadata": {},
   "outputs": [],
   "source": []
  }
 ],
 "metadata": {
  "kernelspec": {
   "display_name": "Python 3",
   "language": "python",
   "name": "python3"
  },
  "language_info": {
   "codemirror_mode": {
    "name": "ipython",
    "version": 3
   },
   "file_extension": ".py",
   "mimetype": "text/x-python",
   "name": "python",
   "nbconvert_exporter": "python",
   "pygments_lexer": "ipython3",
   "version": "3.10.1"
  }
 },
 "nbformat": 4,
 "nbformat_minor": 2
}
