{
 "cells": [
  {
   "cell_type": "markdown",
   "metadata": {},
   "source": [
    "# Notebook Test Example of Features"
   ]
  },
  {
   "cell_type": "code",
   "execution_count": 2,
   "metadata": {},
   "outputs": [],
   "source": [
    "import pandas as pd\n",
    "import numpy as np"
   ]
  },
  {
   "cell_type": "code",
   "execution_count": 3,
   "metadata": {},
   "outputs": [],
   "source": [
    "import sys\n",
    "sys.path.append(r'D:\\pbl\\InterpreTS')\n"
   ]
  },
  {
   "cell_type": "code",
   "execution_count": 11,
   "metadata": {},
   "outputs": [],
   "source": [
    "from interpreTS.core.features.feature_crossing_points import calculate_crossing_points"
   ]
  },
  {
   "cell_type": "code",
   "execution_count": 14,
   "metadata": {},
   "outputs": [
    {
     "name": "stdout",
     "output_type": "stream",
     "text": [
      "{'crossing_count': 7, 'crossing_points': [0, 1, 2, 3, 4, 5, 6]}\n",
      "{'crossing_count': 0, 'crossing_points': []}\n"
     ]
    }
   ],
   "source": [
    "data = pd.Series([1, 3, 2, 4, 1, 5, 2, 6])\n",
    "result = calculate_crossing_points(data)\n",
    "print(result)\n",
    "\n",
    "data = pd.Series([2, 2, 2, 2])\n",
    "res2 = calculate_crossing_points(data)\n",
    "print(res2)"
   ]
  },
  {
   "cell_type": "code",
   "execution_count": 10,
   "metadata": {},
   "outputs": [],
   "source": [
    "from interpreTS.core.features.feature_amplitude_change_rate import calculate_amplitude_change_rate"
   ]
  },
  {
   "cell_type": "code",
   "execution_count": 13,
   "metadata": {},
   "outputs": [
    {
     "name": "stdout",
     "output_type": "stream",
     "text": [
      "2.8333333333333335\n",
      "nan\n"
     ]
    }
   ],
   "source": [
    "data = pd.Series([1, 3, 2, 4, 1, 5, 2, 6, 3])\n",
    "res = calculate_amplitude_change_rate(data)\n",
    "print(res)\n",
    "\n",
    "data = pd.Series([1, 1, 1, 1])\n",
    "res2 =calculate_amplitude_change_rate(data)\n",
    "print(res2)"
   ]
  },
  {
   "cell_type": "code",
   "execution_count": 15,
   "metadata": {},
   "outputs": [],
   "source": [
    "from interpreTS.core.features.feature_linearity import calculate_linearity"
   ]
  },
  {
   "cell_type": "code",
   "execution_count": 17,
   "metadata": {},
   "outputs": [
    {
     "name": "stdout",
     "output_type": "stream",
     "text": [
      "1.0\n",
      "0.0\n"
     ]
    }
   ],
   "source": [
    "data = pd.Series([1, 2, 3, 4, 5])\n",
    "res = calculate_linearity(data)\n",
    "print(res)\n",
    "\n",
    "data = pd.Series([1, 2, 1, 2, 1, 2, 1, 2, 1, 2])\n",
    "res2 = calculate_linearity(data)\n",
    "print(res2)"
   ]
  },
  {
   "cell_type": "code",
   "execution_count": 18,
   "metadata": {},
   "outputs": [],
   "source": [
    "from interpreTS.core.features.seasonality_strength import calculate_seasonality_strength"
   ]
  },
  {
   "cell_type": "code",
   "execution_count": 23,
   "metadata": {},
   "outputs": [
    {
     "name": "stdout",
     "output_type": "stream",
     "text": [
      "1.0\n",
      "0.8333333333333333\n"
     ]
    }
   ],
   "source": [
    "data = pd.Series([1, 2, 3, 2, 1, 2, 3, 2, 1, 2, 3, 2], index=pd.date_range(\"2023-01-01\", periods=12, freq=\"M\"))\n",
    "res1 = calculate_seasonality_strength(data, period=3)\n",
    "print(res)\n",
    "\n",
    "data = pd.Series([1, 2, 1, 2, 1, 2, 1, 2, 1, 2, 1, 2])\n",
    "res2 = calculate_seasonality_strength(data, period=2)\n",
    "print(res2)"
   ]
  },
  {
   "cell_type": "code",
   "execution_count": 24,
   "metadata": {},
   "outputs": [],
   "source": [
    "from interpreTS.core.features.distance_to_the_last_change_point import calculate_distance_to_last_trend_change"
   ]
  },
  {
   "cell_type": "code",
   "execution_count": 25,
   "metadata": {},
   "outputs": [
    {
     "name": "stdout",
     "output_type": "stream",
     "text": [
      "1\n"
     ]
    }
   ],
   "source": [
    "data = pd.Series([1, 2, 3, 2, 1, 2, 3, 2, 1])\n",
    "res =  calculate_distance_to_last_trend_change(data, window_size=2)\n",
    "print(res)"
   ]
  },
  {
   "cell_type": "code",
   "execution_count": 26,
   "metadata": {},
   "outputs": [],
   "source": [
    "from interpreTS.core.features.feature_above_9th_decile import calculate_above_9th_decile"
   ]
  },
  {
   "cell_type": "code",
   "execution_count": 27,
   "metadata": {},
   "outputs": [
    {
     "data": {
      "text/plain": [
       "0.6"
      ]
     },
     "execution_count": 27,
     "metadata": {},
     "output_type": "execute_result"
    }
   ],
   "source": [
    "data = pd.Series([8, 9, 10, 11, 12])\n",
    "training_data = pd.Series([1, 2, 3, 4, 5, 6, 7, 8, 9, 10])\n",
    "calculate_above_9th_decile(data, training_data)"
   ]
  },
  {
   "cell_type": "code",
   "execution_count": 28,
   "metadata": {},
   "outputs": [],
   "source": [
    "from interpreTS.core.features.feature_absolute_energy import calculate_absolute_energy"
   ]
  },
  {
   "cell_type": "code",
   "execution_count": 29,
   "metadata": {},
   "outputs": [
    {
     "name": "stdout",
     "output_type": "stream",
     "text": [
      "30\n",
      "13\n"
     ]
    }
   ],
   "source": [
    "data = pd.Series([1, 2, 3, 4])\n",
    "res1 = calculate_absolute_energy(data)\n",
    "print(res1)\n",
    "\n",
    "res2 = calculate_absolute_energy(data, start=1, end=3)\n",
    "print(res2)"
   ]
  },
  {
   "cell_type": "code",
   "execution_count": 30,
   "metadata": {},
   "outputs": [],
   "source": [
    "from interpreTS.core.features.feature_below_1st_decile import calculate_below_1st_decile"
   ]
  },
  {
   "cell_type": "code",
   "execution_count": 31,
   "metadata": {},
   "outputs": [
    {
     "name": "stdout",
     "output_type": "stream",
     "text": [
      "0.2\n"
     ]
    }
   ],
   "source": [
    "data = pd.Series([1, 2, 3, 4, 5])\n",
    "training_data = pd.Series([1, 2, 3, 4, 5, 6, 7, 8, 9, 10])\n",
    "res1 = calculate_below_1st_decile(data, training_data)\n",
    "print(res1)"
   ]
  },
  {
   "cell_type": "code",
   "execution_count": 32,
   "metadata": {},
   "outputs": [],
   "source": [
    "from interpreTS.core.features.feature_binarize_mean import calculate_binarize_mean"
   ]
  },
  {
   "cell_type": "code",
   "execution_count": 35,
   "metadata": {},
   "outputs": [
    {
     "name": "stdout",
     "output_type": "stream",
     "text": [
      "0.6\n"
     ]
    }
   ],
   "source": [
    "data = pd.Series([1, 2, 3, 4, 5])\n",
    "res = calculate_binarize_mean(data)\n",
    "print(res)"
   ]
  },
  {
   "cell_type": "code",
   "execution_count": 36,
   "metadata": {},
   "outputs": [],
   "source": [
    "from interpreTS.core.features.feature_entropy import calculate_entropy"
   ]
  },
  {
   "cell_type": "code",
   "execution_count": 37,
   "metadata": {},
   "outputs": [
    {
     "name": "stdout",
     "output_type": "stream",
     "text": [
      "1.0\n",
      "0.0\n"
     ]
    }
   ],
   "source": [
    "data = pd.Series([1, 2, 3, 1, 2, 3, 1, 2, 3])\n",
    "res1 = calculate_entropy(data, bins=3)\n",
    "print(res1)\n",
    "\n",
    "data = pd.Series([1, 1, 1, 1])\n",
    "res2 = calculate_entropy(data, bins=2)\n",
    "print(res2)"
   ]
  },
  {
   "cell_type": "code",
   "execution_count": 38,
   "metadata": {},
   "outputs": [],
   "source": [
    "from interpreTS.core.features.feature_flat_spots import calculate_flat_spots"
   ]
  },
  {
   "cell_type": "code",
   "execution_count": 39,
   "metadata": {},
   "outputs": [
    {
     "name": "stdout",
     "output_type": "stream",
     "text": [
      "4\n"
     ]
    }
   ],
   "source": [
    "data = pd.Series([1, 1, 1, 2, 3, 3, 4, 4, 4, 4, 4, 5, 1, 1])\n",
    "res = calculate_flat_spots(data)\n",
    "print(res)"
   ]
  },
  {
   "cell_type": "code",
   "execution_count": 4,
   "metadata": {},
   "outputs": [],
   "source": [
    "from interpreTS.core.features.feature_heterogeneity import calculate_heterogeneity"
   ]
  },
  {
   "cell_type": "code",
   "execution_count": 5,
   "metadata": {},
   "outputs": [
    {
     "name": "stdout",
     "output_type": "stream",
     "text": [
      "0.5270462766947299\n"
     ]
    }
   ],
   "source": [
    "data = pd.Series([1, 2, 3, 4, 5])\n",
    "res = calculate_heterogeneity(data)\n",
    "print(res)"
   ]
  }
 ],
 "metadata": {
  "kernelspec": {
   "display_name": "PBL",
   "language": "python",
   "name": "env"
  },
  "language_info": {
   "codemirror_mode": {
    "name": "ipython",
    "version": 3
   },
   "file_extension": ".py",
   "mimetype": "text/x-python",
   "name": "python",
   "nbconvert_exporter": "python",
   "pygments_lexer": "ipython3",
   "version": "3.8.20"
  }
 },
 "nbformat": 4,
 "nbformat_minor": 2
}
