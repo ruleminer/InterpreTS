{
 "cells": [
  {
   "cell_type": "markdown",
   "metadata": {},
   "source": [
    "# Data classification with interpreTS"
   ]
  },
  {
   "cell_type": "markdown",
   "metadata": {},
   "source": [
    "In this tutorial, we show how you can use interpreTS for data classification."
   ]
  },
  {
   "cell_type": "code",
   "execution_count": 2,
   "metadata": {},
   "outputs": [],
   "source": [
    "import pandas as pd\n",
    "import numpy as np\n",
    "import interpreTS as it\n",
    "from sktime.datasets import load_arrow_head, load_basic_motions\n",
    "from sklearn.model_selection import train_test_split\n",
    "from sklearn.ensemble import RandomForestClassifier\n",
    "from sklearn.metrics import classification_report, accuracy_score"
   ]
  },
  {
   "cell_type": "code",
   "execution_count": 9,
   "metadata": {},
   "outputs": [
    {
     "name": "stdout",
     "output_type": "stream",
     "text": [
      "Train set size: (42168, 1) (168,)\n",
      "Test set size: (10793, 1) (43,)\n"
     ]
    },
    {
     "data": {
      "text/html": [
       "<div>\n",
       "<style scoped>\n",
       "    .dataframe tbody tr th:only-of-type {\n",
       "        vertical-align: middle;\n",
       "    }\n",
       "\n",
       "    .dataframe tbody tr th {\n",
       "        vertical-align: top;\n",
       "    }\n",
       "\n",
       "    .dataframe thead th {\n",
       "        text-align: right;\n",
       "    }\n",
       "</style>\n",
       "<table border=\"1\" class=\"dataframe\">\n",
       "  <thead>\n",
       "    <tr style=\"text-align: right;\">\n",
       "      <th></th>\n",
       "      <th></th>\n",
       "      <th>dim_0</th>\n",
       "    </tr>\n",
       "  </thead>\n",
       "  <tbody>\n",
       "    <tr>\n",
       "      <th rowspan=\"5\" valign=\"top\">0</th>\n",
       "      <th>0</th>\n",
       "      <td>-1.963009</td>\n",
       "    </tr>\n",
       "    <tr>\n",
       "      <th>1</th>\n",
       "      <td>-1.957825</td>\n",
       "    </tr>\n",
       "    <tr>\n",
       "      <th>2</th>\n",
       "      <td>-1.956145</td>\n",
       "    </tr>\n",
       "    <tr>\n",
       "      <th>3</th>\n",
       "      <td>-1.938289</td>\n",
       "    </tr>\n",
       "    <tr>\n",
       "      <th>4</th>\n",
       "      <td>-1.896657</td>\n",
       "    </tr>\n",
       "  </tbody>\n",
       "</table>\n",
       "</div>"
      ],
      "text/plain": [
       "        dim_0\n",
       "0 0 -1.963009\n",
       "  1 -1.957825\n",
       "  2 -1.956145\n",
       "  3 -1.938289\n",
       "  4 -1.896657"
      ]
     },
     "execution_count": 9,
     "metadata": {},
     "output_type": "execute_result"
    }
   ],
   "source": [
    "#prepare data\n",
    "X, y = load_arrow_head(return_type=\"pd-multiindex\")\n",
    "instance_ids = np.unique(X.index.get_level_values(0))\n",
    "train_ids, test_ids = train_test_split(instance_ids, test_size=0.2, random_state=42)\n",
    "\n",
    "X_train = X.loc[train_ids]\n",
    "X_test = X.loc[test_ids]\n",
    "train_indices = [np.where(instance_ids == id_)[0][0] for id_ in train_ids]\n",
    "test_indices = [np.where(instance_ids == id_)[0][0] for id_ in test_ids]\n",
    "\n",
    "y_train = y[train_indices]\n",
    "y_test = y[test_indices]\n",
    "\n",
    "print(\"Train set size:\", X_train.shape, y_train.shape)\n",
    "print(\"Test set size:\", X_test.shape, y_test.shape)\n",
    "X.head()"
   ]
  },
  {
   "cell_type": "code",
   "execution_count": 5,
   "metadata": {},
   "outputs": [
    {
     "data": {
      "text/html": [
       "<div>\n",
       "<style scoped>\n",
       "    .dataframe tbody tr th:only-of-type {\n",
       "        vertical-align: middle;\n",
       "    }\n",
       "\n",
       "    .dataframe tbody tr th {\n",
       "        vertical-align: top;\n",
       "    }\n",
       "\n",
       "    .dataframe thead th {\n",
       "        text-align: right;\n",
       "    }\n",
       "</style>\n",
       "<table border=\"1\" class=\"dataframe\">\n",
       "  <thead>\n",
       "    <tr style=\"text-align: right;\">\n",
       "      <th></th>\n",
       "      <th>length_dim_0</th>\n",
       "      <th>mean_dim_0</th>\n",
       "      <th>variance_dim_0</th>\n",
       "      <th>stability_dim_0</th>\n",
       "      <th>entropy_dim_0</th>\n",
       "      <th>spikeness_dim_0</th>\n",
       "      <th>seasonality_strength_dim_0</th>\n",
       "    </tr>\n",
       "  </thead>\n",
       "  <tbody>\n",
       "    <tr>\n",
       "      <th>0</th>\n",
       "      <td>251</td>\n",
       "      <td>1.071713e-09</td>\n",
       "      <td>1.0</td>\n",
       "      <td>0.596950</td>\n",
       "      <td>0.998374</td>\n",
       "      <td>-0.298874</td>\n",
       "      <td>0.952867</td>\n",
       "    </tr>\n",
       "    <tr>\n",
       "      <th>1</th>\n",
       "      <td>251</td>\n",
       "      <td>8.505976e-10</td>\n",
       "      <td>1.0</td>\n",
       "      <td>0.563580</td>\n",
       "      <td>0.997343</td>\n",
       "      <td>-0.368615</td>\n",
       "      <td>0.973132</td>\n",
       "    </tr>\n",
       "    <tr>\n",
       "      <th>2</th>\n",
       "      <td>251</td>\n",
       "      <td>1.248207e-09</td>\n",
       "      <td>1.0</td>\n",
       "      <td>0.579561</td>\n",
       "      <td>0.996837</td>\n",
       "      <td>-0.258720</td>\n",
       "      <td>0.962001</td>\n",
       "    </tr>\n",
       "    <tr>\n",
       "      <th>3</th>\n",
       "      <td>251</td>\n",
       "      <td>2.191235e-11</td>\n",
       "      <td>1.0</td>\n",
       "      <td>0.597823</td>\n",
       "      <td>0.999448</td>\n",
       "      <td>0.213841</td>\n",
       "      <td>0.955270</td>\n",
       "    </tr>\n",
       "    <tr>\n",
       "      <th>4</th>\n",
       "      <td>251</td>\n",
       "      <td>-2.191236e-11</td>\n",
       "      <td>1.0</td>\n",
       "      <td>0.579527</td>\n",
       "      <td>0.999723</td>\n",
       "      <td>-0.180719</td>\n",
       "      <td>0.964042</td>\n",
       "    </tr>\n",
       "  </tbody>\n",
       "</table>\n",
       "</div>"
      ],
      "text/plain": [
       "   length_dim_0    mean_dim_0  variance_dim_0  stability_dim_0  entropy_dim_0  \\\n",
       "0           251  1.071713e-09             1.0         0.596950       0.998374   \n",
       "1           251  8.505976e-10             1.0         0.563580       0.997343   \n",
       "2           251  1.248207e-09             1.0         0.579561       0.996837   \n",
       "3           251  2.191235e-11             1.0         0.597823       0.999448   \n",
       "4           251 -2.191236e-11             1.0         0.579527       0.999723   \n",
       "\n",
       "   spikeness_dim_0  seasonality_strength_dim_0  \n",
       "0        -0.298874                    0.952867  \n",
       "1        -0.368615                    0.973132  \n",
       "2        -0.258720                    0.962001  \n",
       "3         0.213841                    0.955270  \n",
       "4        -0.180719                    0.964042  "
      ]
     },
     "execution_count": 5,
     "metadata": {},
     "output_type": "execute_result"
    }
   ],
   "source": [
    "# create a feature extractor\n",
    "t = it.FeatureExtractor(window_size=251, stride=251)\n",
    "X_train_ts = t.extract_features(X_train)\n",
    "X_test_ts = t.extract_features(X_test)\n",
    "X_test_ts.head()"
   ]
  },
  {
   "cell_type": "code",
   "execution_count": 6,
   "metadata": {},
   "outputs": [
    {
     "name": "stdout",
     "output_type": "stream",
     "text": [
      "Accuracy: 0.7674418604651163\n",
      "Classification Report:\n",
      "               precision    recall  f1-score   support\n",
      "\n",
      "           0       0.92      0.71      0.80        17\n",
      "           1       0.67      0.77      0.71        13\n",
      "           2       0.73      0.85      0.79        13\n",
      "\n",
      "    accuracy                           0.77        43\n",
      "   macro avg       0.77      0.77      0.77        43\n",
      "weighted avg       0.79      0.77      0.77        43\n",
      "\n"
     ]
    }
   ],
   "source": [
    "# Initialize the classifier\n",
    "clf = RandomForestClassifier(random_state=42)\n",
    "\n",
    "# Train the classifier\n",
    "clf.fit(X_train_ts, y_train)\n",
    "y_pred = clf.predict(X_test_ts)\n",
    "\n",
    "print(\"Accuracy:\", accuracy_score(y_test, y_pred))\n",
    "print(\"Classification Report:\\n\", classification_report(y_test, y_pred))"
   ]
  }
 ],
 "metadata": {
  "kernelspec": {
   "display_name": "Python 3",
   "language": "python",
   "name": "python3"
  },
  "language_info": {
   "codemirror_mode": {
    "name": "ipython",
    "version": 3
   },
   "file_extension": ".py",
   "mimetype": "text/x-python",
   "name": "python",
   "nbconvert_exporter": "python",
   "pygments_lexer": "ipython3",
   "version": "3.12.6"
  }
 },
 "nbformat": 4,
 "nbformat_minor": 2
}
