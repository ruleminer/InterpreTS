{
 "cells": [
  {
   "cell_type": "markdown",
   "metadata": {},
   "source": [
    "# Association Rules and Sequential Patterns"
   ]
  },
  {
   "cell_type": "markdown",
   "metadata": {},
   "source": [
    "This notebook focuses on mining association rules and discovering sequential patterns using a time-series dataset. We'll extract relevant features, discretize them, and then apply algorithms to uncover interesting relationships and sequences in the extracted features of data."
   ]
  },
  {
   "cell_type": "markdown",
   "metadata": {},
   "source": [
    "## Table of Contents\n",
    "1. [Objectives](#objectives)  \n",
    "2. [Installation and Imports](#installation-and-imports)  \n",
    "3. [Load and Preview Data](#load-and-preview-data)  \n",
    "4. [Validate and Convert the Data](#validate-and-convert-the-data)  \n",
    "5. [Feature Extraction](#feature-extraction)  \n",
    "6. [Feature Discretization](#feature-discretization)  \n",
    "7. [Association Rule Mining](#association-rule-mining)  \n",
    "8. [Sequential Pattern Mining](#sequential-pattern-mining)  \n",
    "9. [Results and Analysis](#results-and-analysis)  \n",
    "10. [Conclusion](#conclusion)  "
   ]
  },
  {
   "cell_type": "markdown",
   "metadata": {},
   "source": [
    "## Objectives <a id=\"objectives\">"
   ]
  },
  {
   "cell_type": "markdown",
   "metadata": {},
   "source": [
    "This tutorial covers:\n",
    "\n",
    "- How to extract features from time-series data.\n",
    "- Mining association rules to identify relationships between discretized features.\n",
    "- Discovering sequential patterns to analyze the most frequent sequences among features.\n",
    "- Key differences:\n",
    "    - **Association Rules:** Show which feature categories frequently occur together and which features often follow or are dependent on others.\n",
    "    - **Sequential Patterns:** Highlight the most frequent sequences and temporal order among feature categories.\n"
   ]
  },
  {
   "cell_type": "markdown",
   "metadata": {},
   "source": [
    "## Installation and Imports <a id=\"installation-and-imports\"></a>"
   ]
  },
  {
   "cell_type": "markdown",
   "metadata": {},
   "source": [
    "First, we ensure that the required libraries are installed"
   ]
  },
  {
   "cell_type": "code",
   "execution_count": null,
   "metadata": {},
   "outputs": [],
   "source": [
    "%pip install prefixspan"
   ]
  },
  {
   "cell_type": "markdown",
   "metadata": {},
   "source": [
    "Import necessary libraries"
   ]
  },
  {
   "cell_type": "code",
   "execution_count": 1,
   "metadata": {},
   "outputs": [
    {
     "name": "stderr",
     "output_type": "stream",
     "text": [
      "WARNING:interpreTS:scikit-learn is not installed. Please install it to use interpreTS.\n",
      "WARNING:interpreTS:myst-parser is not installed. Please install it to use interpreTS.\n"
     ]
    },
    {
     "name": "stdout",
     "output_type": "stream",
     "text": [
      "Version: 0.4.1\n"
     ]
    },
    {
     "name": "stderr",
     "output_type": "stream",
     "text": [
      "C:\\Users\\nisia\\AppData\\Roaming\\Python\\Python312\\site-packages\\dask\\dataframe\\__init__.py:49: FutureWarning: \n",
      "Dask dataframe query planning is disabled because dask-expr is not installed.\n",
      "\n",
      "You can install it with `pip install dask[dataframe]` or `conda install dask`.\n",
      "This will raise in a future version.\n",
      "\n",
      "  warnings.warn(msg, FutureWarning)\n"
     ]
    }
   ],
   "source": [
    "import pandas as pd\n",
    "from interpreTS.utils.data_validation import validate_time_series_data\n",
    "from interpreTS.utils.data_conversion import convert_to_time_series\n",
    "from interpreTS.core.feature_extractor import FeatureExtractor, Features\n",
    "from mlxtend.frequent_patterns import apriori, association_rules\n",
    "from prefixspan import PrefixSpan"
   ]
  },
  {
   "cell_type": "markdown",
   "metadata": {},
   "source": [
    "Version check for interpreTS"
   ]
  },
  {
   "cell_type": "code",
   "execution_count": 1,
   "metadata": {},
   "outputs": [
    {
     "name": "stderr",
     "output_type": "stream",
     "text": [
      "WARNING:interpreTS:scikit-learn is not installed. Please install it to use interpreTS.\n",
      "WARNING:interpreTS:myst-parser is not installed. Please install it to use interpreTS.\n"
     ]
    },
    {
     "name": "stdout",
     "output_type": "stream",
     "text": [
      "Version: 0.4.1\n"
     ]
    },
    {
     "name": "stderr",
     "output_type": "stream",
     "text": [
      "C:\\Users\\nisia\\AppData\\Roaming\\Python\\Python312\\site-packages\\dask\\dataframe\\__init__.py:49: FutureWarning: \n",
      "Dask dataframe query planning is disabled because dask-expr is not installed.\n",
      "\n",
      "You can install it with `pip install dask[dataframe]` or `conda install dask`.\n",
      "This will raise in a future version.\n",
      "\n",
      "  warnings.warn(msg, FutureWarning)\n"
     ]
    }
   ],
   "source": [
    "import interpreTS\n",
    "print(f\"Version: {interpreTS.__version__}\")"
   ]
  },
  {
   "cell_type": "markdown",
   "metadata": {},
   "source": [
    "## Load and Preview Data <a id=\"load-and-preview-data\"></a>"
   ]
  },
  {
   "cell_type": "markdown",
   "metadata": {},
   "source": [
    "Load the data"
   ]
  },
  {
   "cell_type": "code",
   "execution_count": null,
   "metadata": {},
   "outputs": [],
   "source": [
    "df = pd.read_csv('data/radiator.csv')"
   ]
  },
  {
   "cell_type": "markdown",
   "metadata": {},
   "source": [
    "Convert the 'timestamp' column to datetime and set it as the index\n"
   ]
  },
  {
   "cell_type": "code",
   "execution_count": null,
   "metadata": {},
   "outputs": [],
   "source": [
    "df['timestamp'] = pd.to_datetime(df['timestamp'])\n",
    "df.set_index('timestamp', inplace=True)"
   ]
  },
  {
   "cell_type": "markdown",
   "metadata": {},
   "source": [
    "Preview the data"
   ]
  },
  {
   "cell_type": "code",
   "execution_count": null,
   "metadata": {},
   "outputs": [],
   "source": [
    "display(df.head())"
   ]
  },
  {
   "cell_type": "markdown",
   "metadata": {},
   "source": [
    "Check dataset information"
   ]
  },
  {
   "cell_type": "code",
   "execution_count": null,
   "metadata": {},
   "outputs": [],
   "source": [
    "df.info()"
   ]
  },
  {
   "cell_type": "markdown",
   "metadata": {},
   "source": [
    "## Validate and Convert the data <a id=\"validate-and-convert-the-data\"></a>"
   ]
  },
  {
   "cell_type": "markdown",
   "metadata": {},
   "source": [
    "To ensure the dataset is suitable for time-series analysis, we validate it using the `validate_time_series_data` function."
   ]
  },
  {
   "cell_type": "code",
   "execution_count": 3,
   "metadata": {},
   "outputs": [
    {
     "name": "stdout",
     "output_type": "stream",
     "text": [
      "Time series data validation passed.\n",
      "<interpreTS.core.time_series_data.TimeSeriesData object at 0x0000014B39ECAB70>\n",
      "                            power\n",
      "timestamp                        \n",
      "2020-12-23 16:42:05+00:00     1.0\n",
      "2020-12-23 16:42:06+00:00     1.0\n",
      "2020-12-23 16:42:07+00:00     1.0\n",
      "2020-12-23 16:42:08+00:00     2.5\n",
      "2020-12-23 16:42:09+00:00     3.0\n",
      "...                           ...\n",
      "2021-01-22 16:42:01+00:00  1178.0\n",
      "2021-01-22 16:42:02+00:00  1167.0\n",
      "2021-01-22 16:42:03+00:00  1178.0\n",
      "2021-01-22 16:42:04+00:00  1190.0\n",
      "2021-01-22 16:42:05+00:00  1190.0\n",
      "\n",
      "[2592001 rows x 1 columns]\n"
     ]
    }
   ],
   "source": [
    "try:\n",
    "    validate_time_series_data(df)\n",
    "    print(\"Time series data validation passed.\")\n",
    "except (TypeError, ValueError) as e:\n",
    "    print(f\"Validation error: {e}\")"
   ]
  },
  {
   "cell_type": "markdown",
   "metadata": {},
   "source": [
    "The data is converted into an interpreTS `TimeSeriesData` object for further analysis."
   ]
  },
  {
   "cell_type": "code",
   "execution_count": null,
   "metadata": {},
   "outputs": [],
   "source": [
    "time_series_data = convert_to_time_series(df)"
   ]
  },
  {
   "cell_type": "code",
   "execution_count": null,
   "metadata": {},
   "outputs": [],
   "source": [
    "# Print the converted TimeSeriesData object and its underlying data\n",
    "print(time_series_data)\n",
    "display(time_series_data.data)"
   ]
  },
  {
   "cell_type": "markdown",
   "metadata": {},
   "source": [
    "## Feature Extraction <a id=\"feature-extraction\"></a>"
   ]
  },
  {
   "cell_type": "markdown",
   "metadata": {},
   "source": [
    "We extract statistical features from the time-series data, such as mean, peak, trough, variance, and spikeness, using a sliding window approach."
   ]
  },
  {
   "cell_type": "code",
   "execution_count": 4,
   "metadata": {},
   "outputs": [
    {
     "name": "stdout",
     "output_type": "stream",
     "text": [
      "   mean_power  peak_power  trough_power  variance_power  spikeness_power\n",
      "0  601.708333      1314.0           1.0   421031.714336         0.156262\n",
      "1  775.850000      1314.0           1.0   402910.943220        -0.398615\n",
      "2  176.033333      1303.0           1.0   194327.422599         2.212143\n",
      "3  380.816667      1314.0           1.0   347499.270904         0.942842\n",
      "4  808.200000      1314.0           2.0   359508.094915        -0.441064\n"
     ]
    }
   ],
   "source": [
    "extractor = FeatureExtractor(\n",
    "    features=[\n",
    "        Features.MEAN,\n",
    "        Features.PEAK,\n",
    "        Features.TROUGH,\n",
    "        Features.VARIANCE,\n",
    "        Features.SPIKENESS\n",
    "    ],\n",
    "    window_size=60,\n",
    "    stride=30\n",
    ")\n",
    "features = extractor.extract_features(time_series_data.data)\n"
   ]
  },
  {
   "cell_type": "markdown",
   "metadata": {},
   "source": [
    "Display the extracted features"
   ]
  },
  {
   "cell_type": "code",
   "execution_count": 2,
   "metadata": {},
   "outputs": [
    {
     "ename": "NameError",
     "evalue": "name 'features' is not defined",
     "output_type": "error",
     "traceback": [
      "\u001b[1;31m---------------------------------------------------------------------------\u001b[0m",
      "\u001b[1;31mNameError\u001b[0m                                 Traceback (most recent call last)",
      "Cell \u001b[1;32mIn[2], line 1\u001b[0m\n\u001b[1;32m----> 1\u001b[0m display(\u001b[43mfeatures\u001b[49m)\n",
      "\u001b[1;31mNameError\u001b[0m: name 'features' is not defined"
     ]
    }
   ],
   "source": [
    "display(features)"
   ]
  },
  {
   "cell_type": "markdown",
   "metadata": {},
   "source": [
    "## Feature Discretization <a id=\"feature-discretication\"></a>"
   ]
  },
  {
   "cell_type": "markdown",
   "metadata": {},
   "source": [
    "The extracted features are discretized into three bins (`low`, `medium`, and `high`) to simplify analysis."
   ]
  },
  {
   "cell_type": "code",
   "execution_count": 6,
   "metadata": {},
   "outputs": [],
   "source": [
    "columns_to_discretize = [\n",
    "    'mean_power',\n",
    "    'peak_power',\n",
    "    'trough_power',\n",
    "    'variance_power',\n",
    "    'spikeness_power'\n",
    "    ]"
   ]
  },
  {
   "cell_type": "markdown",
   "metadata": {},
   "source": [
    "Discretize features into bins"
   ]
  },
  {
   "cell_type": "code",
   "execution_count": null,
   "metadata": {},
   "outputs": [],
   "source": [
    "binned_features = pd.DataFrame()\n",
    "for col in columns_to_discretize:\n",
    "    binned_features[f\"{col}_bin\"] = pd.cut(features[col], bins=3, labels=[\"low\", \"medium\", \"high\"])\n"
   ]
  },
  {
   "cell_type": "markdown",
   "metadata": {},
   "source": [
    "Encode the binned features into one-hot encoding"
   ]
  },
  {
   "cell_type": "code",
   "execution_count": 7,
   "metadata": {},
   "outputs": [],
   "source": [
    "encoded_features = pd.get_dummies(binned_features, prefix=binned_features.columns)"
   ]
  },
  {
   "cell_type": "markdown",
   "metadata": {},
   "source": [
    "## Association Rule Mining <a id=\"association-rule-mining\"></a>"
   ]
  },
  {
   "cell_type": "markdown",
   "metadata": {},
   "source": [
    "Using the Apriori algorithm, we extract frequent itemsets with a minimum support threshold of 0.35."
   ]
  },
  {
   "cell_type": "code",
   "execution_count": 15,
   "metadata": {},
   "outputs": [
    {
     "name": "stdout",
     "output_type": "stream",
     "text": [
      "\n",
      "Reguły asocjacyjne:\n"
     ]
    },
    {
     "data": {
      "text/html": [
       "<div>\n",
       "<style scoped>\n",
       "    .dataframe tbody tr th:only-of-type {\n",
       "        vertical-align: middle;\n",
       "    }\n",
       "\n",
       "    .dataframe tbody tr th {\n",
       "        vertical-align: top;\n",
       "    }\n",
       "\n",
       "    .dataframe thead th {\n",
       "        text-align: right;\n",
       "    }\n",
       "</style>\n",
       "<table border=\"1\" class=\"dataframe\">\n",
       "  <thead>\n",
       "    <tr style=\"text-align: right;\">\n",
       "      <th></th>\n",
       "      <th>antecedents</th>\n",
       "      <th>consequents</th>\n",
       "      <th>antecedent support</th>\n",
       "      <th>consequent support</th>\n",
       "      <th>support</th>\n",
       "      <th>confidence</th>\n",
       "      <th>lift</th>\n",
       "      <th>representativity</th>\n",
       "      <th>leverage</th>\n",
       "      <th>conviction</th>\n",
       "      <th>zhangs_metric</th>\n",
       "      <th>jaccard</th>\n",
       "      <th>certainty</th>\n",
       "      <th>kulczynski</th>\n",
       "    </tr>\n",
       "  </thead>\n",
       "  <tbody>\n",
       "    <tr>\n",
       "      <th>0</th>\n",
       "      <td>(mean_power_bin_medium)</td>\n",
       "      <td>(peak_power_bin_high)</td>\n",
       "      <td>0.362527</td>\n",
       "      <td>0.936643</td>\n",
       "      <td>0.362527</td>\n",
       "      <td>1.000000</td>\n",
       "      <td>1.067643</td>\n",
       "      <td>1.0</td>\n",
       "      <td>0.022969</td>\n",
       "      <td>inf</td>\n",
       "      <td>0.099388</td>\n",
       "      <td>0.387050</td>\n",
       "      <td>1.000000</td>\n",
       "      <td>0.693525</td>\n",
       "    </tr>\n",
       "    <tr>\n",
       "      <th>1</th>\n",
       "      <td>(peak_power_bin_high)</td>\n",
       "      <td>(mean_power_bin_medium)</td>\n",
       "      <td>0.936643</td>\n",
       "      <td>0.362527</td>\n",
       "      <td>0.362527</td>\n",
       "      <td>0.387050</td>\n",
       "      <td>1.067643</td>\n",
       "      <td>1.0</td>\n",
       "      <td>0.022969</td>\n",
       "      <td>1.040007</td>\n",
       "      <td>1.000000</td>\n",
       "      <td>0.387050</td>\n",
       "      <td>0.038468</td>\n",
       "      <td>0.693525</td>\n",
       "    </tr>\n",
       "    <tr>\n",
       "      <th>2</th>\n",
       "      <td>(mean_power_bin_medium)</td>\n",
       "      <td>(trough_power_bin_low)</td>\n",
       "      <td>0.362527</td>\n",
       "      <td>0.883922</td>\n",
       "      <td>0.362527</td>\n",
       "      <td>1.000000</td>\n",
       "      <td>1.131321</td>\n",
       "      <td>1.0</td>\n",
       "      <td>0.042081</td>\n",
       "      <td>inf</td>\n",
       "      <td>0.182091</td>\n",
       "      <td>0.410135</td>\n",
       "      <td>1.000000</td>\n",
       "      <td>0.705067</td>\n",
       "    </tr>\n",
       "    <tr>\n",
       "      <th>3</th>\n",
       "      <td>(trough_power_bin_low)</td>\n",
       "      <td>(mean_power_bin_medium)</td>\n",
       "      <td>0.883922</td>\n",
       "      <td>0.362527</td>\n",
       "      <td>0.362527</td>\n",
       "      <td>0.410135</td>\n",
       "      <td>1.131321</td>\n",
       "      <td>1.0</td>\n",
       "      <td>0.042081</td>\n",
       "      <td>1.080709</td>\n",
       "      <td>1.000000</td>\n",
       "      <td>0.410135</td>\n",
       "      <td>0.074682</td>\n",
       "      <td>0.705067</td>\n",
       "    </tr>\n",
       "    <tr>\n",
       "      <th>4</th>\n",
       "      <td>(spikeness_power_bin_medium)</td>\n",
       "      <td>(mean_power_bin_medium)</td>\n",
       "      <td>0.880774</td>\n",
       "      <td>0.362527</td>\n",
       "      <td>0.362527</td>\n",
       "      <td>0.411601</td>\n",
       "      <td>1.135365</td>\n",
       "      <td>1.0</td>\n",
       "      <td>0.043223</td>\n",
       "      <td>1.083402</td>\n",
       "      <td>1.000000</td>\n",
       "      <td>0.411601</td>\n",
       "      <td>0.076981</td>\n",
       "      <td>0.705800</td>\n",
       "    </tr>\n",
       "  </tbody>\n",
       "</table>\n",
       "</div>"
      ],
      "text/plain": [
       "                    antecedents              consequents  antecedent support  \\\n",
       "0       (mean_power_bin_medium)    (peak_power_bin_high)            0.362527   \n",
       "1         (peak_power_bin_high)  (mean_power_bin_medium)            0.936643   \n",
       "2       (mean_power_bin_medium)   (trough_power_bin_low)            0.362527   \n",
       "3        (trough_power_bin_low)  (mean_power_bin_medium)            0.883922   \n",
       "4  (spikeness_power_bin_medium)  (mean_power_bin_medium)            0.880774   \n",
       "\n",
       "   consequent support   support  confidence      lift  representativity  \\\n",
       "0            0.936643  0.362527    1.000000  1.067643               1.0   \n",
       "1            0.362527  0.362527    0.387050  1.067643               1.0   \n",
       "2            0.883922  0.362527    1.000000  1.131321               1.0   \n",
       "3            0.362527  0.362527    0.410135  1.131321               1.0   \n",
       "4            0.362527  0.362527    0.411601  1.135365               1.0   \n",
       "\n",
       "   leverage  conviction  zhangs_metric   jaccard  certainty  kulczynski  \n",
       "0  0.022969         inf       0.099388  0.387050   1.000000    0.693525  \n",
       "1  0.022969    1.040007       1.000000  0.387050   0.038468    0.693525  \n",
       "2  0.042081         inf       0.182091  0.410135   1.000000    0.705067  \n",
       "3  0.042081    1.080709       1.000000  0.410135   0.074682    0.705067  \n",
       "4  0.043223    1.083402       1.000000  0.411601   0.076981    0.705800  "
      ]
     },
     "metadata": {},
     "output_type": "display_data"
    }
   ],
   "source": [
    "frequent_itemsets = apriori(encoded_features, min_support=0.35, use_colnames=True)\n",
    "num_itemsets = len(frequent_itemsets)"
   ]
  },
  {
   "cell_type": "markdown",
   "metadata": {},
   "source": [
    "We generate association rules using `lift` as the evaluation metric."
   ]
  },
  {
   "cell_type": "code",
   "execution_count": 3,
   "metadata": {},
   "outputs": [
    {
     "ename": "NameError",
     "evalue": "name 'association_rules' is not defined",
     "output_type": "error",
     "traceback": [
      "\u001b[1;31m---------------------------------------------------------------------------\u001b[0m",
      "\u001b[1;31mNameError\u001b[0m                                 Traceback (most recent call last)",
      "Cell \u001b[1;32mIn[3], line 1\u001b[0m\n\u001b[1;32m----> 1\u001b[0m rules \u001b[38;5;241m=\u001b[39m \u001b[43massociation_rules\u001b[49m(frequent_itemsets, num_itemsets, metric\u001b[38;5;241m=\u001b[39m\u001b[38;5;124m\"\u001b[39m\u001b[38;5;124mlift\u001b[39m\u001b[38;5;124m\"\u001b[39m, min_threshold\u001b[38;5;241m=\u001b[39m\u001b[38;5;241m1.0\u001b[39m)\n\u001b[0;32m      3\u001b[0m \u001b[38;5;66;03m# Wyświetlenie reguł asocjacyjnych\u001b[39;00m\n\u001b[0;32m      4\u001b[0m \u001b[38;5;66;03m# Wyświetlenie wyników\u001b[39;00m\n\u001b[0;32m      5\u001b[0m \u001b[38;5;28mprint\u001b[39m(\u001b[38;5;124m\"\u001b[39m\u001b[38;5;130;01m\\n\u001b[39;00m\u001b[38;5;124mReguły asocjacyjne:\u001b[39m\u001b[38;5;124m\"\u001b[39m)\n",
      "\u001b[1;31mNameError\u001b[0m: name 'association_rules' is not defined"
     ]
    }
   ],
   "source": [
    "rules = association_rules(frequent_itemsets, num_itemsets, metric=\"lift\", min_threshold=1.0)"
   ]
  },
  {
   "cell_type": "markdown",
   "metadata": {},
   "source": [
    "Display the results"
   ]
  },
  {
   "cell_type": "code",
   "execution_count": null,
   "metadata": {},
   "outputs": [],
   "source": [
    "print(\"Association Rules:\")\n",
    "display(rules.head())"
   ]
  },
  {
   "cell_type": "markdown",
   "metadata": {},
   "source": [
    "## Sequential Pattern Mining <a id=\"sequential-pattern-mining\"></a>"
   ]
  },
  {
   "cell_type": "markdown",
   "metadata": {},
   "source": [
    "We prepare the sequence data by combining feature names with their discretized categories (e.g., `mean_power: low`)."
   ]
  },
  {
   "cell_type": "code",
   "execution_count": 17,
   "metadata": {},
   "outputs": [
    {
     "data": {
      "text/plain": [
       "[['mean_power: medium',\n",
       "  'peak_power: high',\n",
       "  'trough_power: low',\n",
       "  'variance_power: high',\n",
       "  'spikeness_power: medium'],\n",
       " ['mean_power: medium',\n",
       "  'peak_power: high',\n",
       "  'trough_power: low',\n",
       "  'variance_power: high',\n",
       "  'spikeness_power: medium'],\n",
       " ['mean_power: low',\n",
       "  'peak_power: high',\n",
       "  'trough_power: low',\n",
       "  'variance_power: medium',\n",
       "  'spikeness_power: medium'],\n",
       " ['mean_power: low',\n",
       "  'peak_power: high',\n",
       "  'trough_power: low',\n",
       "  'variance_power: high',\n",
       "  'spikeness_power: medium'],\n",
       " ['mean_power: medium',\n",
       "  'peak_power: high',\n",
       "  'trough_power: low',\n",
       "  'variance_power: high',\n",
       "  'spikeness_power: medium']]"
      ]
     },
     "metadata": {},
     "output_type": "display_data"
    }
   ],
   "source": [
    "sequences = []\n",
    "for index, row in binned_features.iterrows():\n",
    "    sequence = []\n",
    "    for i, value in enumerate(row):\n",
    "        feature_name = columns_to_discretize[i]\n",
    "        sequence.append(f\"{feature_name}: {value}\")\n",
    "    sequences.append(sequence)"
   ]
  },
  {
   "cell_type": "markdown",
   "metadata": {},
   "source": [
    "Display a sample of the sequences"
   ]
  },
  {
   "cell_type": "code",
   "execution_count": null,
   "metadata": {},
   "outputs": [],
   "source": [
    "display(sequences[:5])"
   ]
  },
  {
   "cell_type": "markdown",
   "metadata": {},
   "source": [
    "The PrefixSpan algorithm is used to find frequent sequential patterns with a minimum support of 0.9."
   ]
  },
  {
   "cell_type": "code",
   "execution_count": 18,
   "metadata": {},
   "outputs": [],
   "source": [
    "ps = PrefixSpan(sequences)\n",
    "patterns = ps.frequent(minsup=0.9)"
   ]
  },
  {
   "cell_type": "markdown",
   "metadata": {},
   "source": [
    "Display the top 20 patterns"
   ]
  },
  {
   "cell_type": "code",
   "execution_count": 26,
   "metadata": {},
   "outputs": [
    {
     "name": "stdout",
     "output_type": "stream",
     "text": [
      "(31322, ['mean_power: medium'])\n",
      "(31322, ['mean_power: medium', 'peak_power: high'])\n",
      "(31322, ['mean_power: medium', 'peak_power: high', 'trough_power: low'])\n",
      "(25850, ['mean_power: medium', 'peak_power: high', 'trough_power: low', 'variance_power: high'])\n",
      "(25850, ['mean_power: medium', 'peak_power: high', 'trough_power: low', 'variance_power: high', 'spikeness_power: medium'])\n",
      "(31322, ['mean_power: medium', 'peak_power: high', 'trough_power: low', 'spikeness_power: medium'])\n",
      "(5472, ['mean_power: medium', 'peak_power: high', 'trough_power: low', 'variance_power: medium'])\n",
      "(5472, ['mean_power: medium', 'peak_power: high', 'trough_power: low', 'variance_power: medium', 'spikeness_power: medium'])\n",
      "(25850, ['mean_power: medium', 'peak_power: high', 'variance_power: high'])\n",
      "(25850, ['mean_power: medium', 'peak_power: high', 'variance_power: high', 'spikeness_power: medium'])\n",
      "(31322, ['mean_power: medium', 'peak_power: high', 'spikeness_power: medium'])\n",
      "(5472, ['mean_power: medium', 'peak_power: high', 'variance_power: medium'])\n",
      "(5472, ['mean_power: medium', 'peak_power: high', 'variance_power: medium', 'spikeness_power: medium'])\n",
      "(31322, ['mean_power: medium', 'trough_power: low'])\n",
      "(25850, ['mean_power: medium', 'trough_power: low', 'variance_power: high'])\n",
      "(25850, ['mean_power: medium', 'trough_power: low', 'variance_power: high', 'spikeness_power: medium'])\n",
      "(31322, ['mean_power: medium', 'trough_power: low', 'spikeness_power: medium'])\n",
      "(5472, ['mean_power: medium', 'trough_power: low', 'variance_power: medium'])\n",
      "(5472, ['mean_power: medium', 'trough_power: low', 'variance_power: medium', 'spikeness_power: medium'])\n",
      "(25850, ['mean_power: medium', 'variance_power: high'])\n",
      "(25850, ['mean_power: medium', 'variance_power: high', 'spikeness_power: medium'])\n",
      "(31322, ['mean_power: medium', 'spikeness_power: medium'])\n",
      "(5472, ['mean_power: medium', 'variance_power: medium'])\n",
      "(5472, ['mean_power: medium', 'variance_power: medium', 'spikeness_power: medium'])\n",
      "(80925, ['peak_power: high'])\n",
      "(70896, ['peak_power: high', 'trough_power: low'])\n",
      "(32792, ['peak_power: high', 'trough_power: low', 'variance_power: high'])\n",
      "(32792, ['peak_power: high', 'trough_power: low', 'variance_power: high', 'spikeness_power: medium'])\n",
      "(61611, ['peak_power: high', 'trough_power: low', 'spikeness_power: medium'])\n",
      "(26991, ['peak_power: high', 'trough_power: low', 'variance_power: medium'])\n",
      "(26841, ['peak_power: high', 'trough_power: low', 'variance_power: medium', 'spikeness_power: medium'])\n",
      "(122, ['peak_power: high', 'trough_power: low', 'variance_power: medium', 'spikeness_power: high'])\n",
      "(28, ['peak_power: high', 'trough_power: low', 'variance_power: medium', 'spikeness_power: low'])\n",
      "(11113, ['peak_power: high', 'trough_power: low', 'variance_power: low'])\n",
      "(1847, ['peak_power: high', 'trough_power: low', 'variance_power: low', 'spikeness_power: high'])\n",
      "(1978, ['peak_power: high', 'trough_power: low', 'variance_power: low', 'spikeness_power: medium'])\n",
      "(7288, ['peak_power: high', 'trough_power: low', 'variance_power: low', 'spikeness_power: low'])\n",
      "(1969, ['peak_power: high', 'trough_power: low', 'spikeness_power: high'])\n",
      "(7316, ['peak_power: high', 'trough_power: low', 'spikeness_power: low'])\n",
      "(32792, ['peak_power: high', 'variance_power: high'])\n",
      "(32792, ['peak_power: high', 'variance_power: high', 'spikeness_power: medium'])\n",
      "(71239, ['peak_power: high', 'spikeness_power: medium'])\n",
      "(26991, ['peak_power: high', 'variance_power: medium'])\n",
      "(26841, ['peak_power: high', 'variance_power: medium', 'spikeness_power: medium'])\n",
      "(122, ['peak_power: high', 'variance_power: medium', 'spikeness_power: high'])\n",
      "(28, ['peak_power: high', 'variance_power: medium', 'spikeness_power: low'])\n",
      "(21142, ['peak_power: high', 'variance_power: low'])\n",
      "(1856, ['peak_power: high', 'variance_power: low', 'spikeness_power: high'])\n",
      "(11606, ['peak_power: high', 'variance_power: low', 'spikeness_power: medium'])\n",
      "(7680, ['peak_power: high', 'variance_power: low', 'spikeness_power: low'])\n",
      "(1978, ['peak_power: high', 'spikeness_power: high'])\n",
      "(9688, ['peak_power: high', 'trough_power: high'])\n",
      "(9688, ['peak_power: high', 'trough_power: high', 'variance_power: low'])\n",
      "(9547, ['peak_power: high', 'trough_power: high', 'variance_power: low', 'spikeness_power: medium'])\n",
      "(132, ['peak_power: high', 'trough_power: high', 'variance_power: low', 'spikeness_power: low'])\n",
      "(9, ['peak_power: high', 'trough_power: high', 'variance_power: low', 'spikeness_power: high'])\n",
      "(9547, ['peak_power: high', 'trough_power: high', 'spikeness_power: medium'])\n",
      "(132, ['peak_power: high', 'trough_power: high', 'spikeness_power: low'])\n",
      "(9, ['peak_power: high', 'trough_power: high', 'spikeness_power: high'])\n",
      "(7708, ['peak_power: high', 'spikeness_power: low'])\n",
      "(341, ['peak_power: high', 'trough_power: medium'])\n",
      "(341, ['peak_power: high', 'trough_power: medium', 'variance_power: low'])\n",
      "(260, ['peak_power: high', 'trough_power: medium', 'variance_power: low', 'spikeness_power: low'])\n",
      "(81, ['peak_power: high', 'trough_power: medium', 'variance_power: low', 'spikeness_power: medium'])\n",
      "(260, ['peak_power: high', 'trough_power: medium', 'spikeness_power: low'])\n",
      "(81, ['peak_power: high', 'trough_power: medium', 'spikeness_power: medium'])\n",
      "(76370, ['trough_power: low'])\n",
      "(32792, ['trough_power: low', 'variance_power: high'])\n",
      "(32792, ['trough_power: low', 'variance_power: high', 'spikeness_power: medium'])\n",
      "(66470, ['trough_power: low', 'spikeness_power: medium'])\n",
      "(26991, ['trough_power: low', 'variance_power: medium'])\n",
      "(26841, ['trough_power: low', 'variance_power: medium', 'spikeness_power: medium'])\n",
      "(122, ['trough_power: low', 'variance_power: medium', 'spikeness_power: high'])\n",
      "(28, ['trough_power: low', 'variance_power: medium', 'spikeness_power: low'])\n",
      "(16587, ['trough_power: low', 'variance_power: low'])\n",
      "(6837, ['trough_power: low', 'variance_power: low', 'spikeness_power: medium'])\n",
      "(2457, ['trough_power: low', 'variance_power: low', 'spikeness_power: high'])\n",
      "(7293, ['trough_power: low', 'variance_power: low', 'spikeness_power: low'])\n",
      "(2579, ['trough_power: low', 'spikeness_power: high'])\n",
      "(7321, ['trough_power: low', 'spikeness_power: low'])\n",
      "(32792, ['variance_power: high'])\n",
      "(32792, ['variance_power: high', 'spikeness_power: medium'])\n",
      "(76098, ['spikeness_power: medium'])\n",
      "(15813, ['mean_power: low'])\n",
      "(10339, ['mean_power: low', 'peak_power: high'])\n",
      "(10339, ['mean_power: low', 'peak_power: high', 'trough_power: low'])\n",
      "(5161, ['mean_power: low', 'peak_power: high', 'trough_power: low', 'variance_power: medium'])\n",
      "(5039, ['mean_power: low', 'peak_power: high', 'trough_power: low', 'variance_power: medium', 'spikeness_power: medium'])\n",
      "(122, ['mean_power: low', 'peak_power: high', 'trough_power: low', 'variance_power: medium', 'spikeness_power: high'])\n",
      "(8370, ['mean_power: low', 'peak_power: high', 'trough_power: low', 'spikeness_power: medium'])\n",
      "(3024, ['mean_power: low', 'peak_power: high', 'trough_power: low', 'variance_power: high'])\n",
      "(3024, ['mean_power: low', 'peak_power: high', 'trough_power: low', 'variance_power: high', 'spikeness_power: medium'])\n",
      "(2154, ['mean_power: low', 'peak_power: high', 'trough_power: low', 'variance_power: low'])\n",
      "(1847, ['mean_power: low', 'peak_power: high', 'trough_power: low', 'variance_power: low', 'spikeness_power: high'])\n",
      "(307, ['mean_power: low', 'peak_power: high', 'trough_power: low', 'variance_power: low', 'spikeness_power: medium'])\n",
      "(1969, ['mean_power: low', 'peak_power: high', 'trough_power: low', 'spikeness_power: high'])\n",
      "(5161, ['mean_power: low', 'peak_power: high', 'variance_power: medium'])\n",
      "(5039, ['mean_power: low', 'peak_power: high', 'variance_power: medium', 'spikeness_power: medium'])\n",
      "(122, ['mean_power: low', 'peak_power: high', 'variance_power: medium', 'spikeness_power: high'])\n",
      "(8370, ['mean_power: low', 'peak_power: high', 'spikeness_power: medium'])\n",
      "(3024, ['mean_power: low', 'peak_power: high', 'variance_power: high'])\n",
      "(3024, ['mean_power: low', 'peak_power: high', 'variance_power: high', 'spikeness_power: medium'])\n",
      "(2154, ['mean_power: low', 'peak_power: high', 'variance_power: low'])\n",
      "(1847, ['mean_power: low', 'peak_power: high', 'variance_power: low', 'spikeness_power: high'])\n",
      "(307, ['mean_power: low', 'peak_power: high', 'variance_power: low', 'spikeness_power: medium'])\n",
      "(1969, ['mean_power: low', 'peak_power: high', 'spikeness_power: high'])\n",
      "(15813, ['mean_power: low', 'trough_power: low'])\n",
      "(5161, ['mean_power: low', 'trough_power: low', 'variance_power: medium'])\n",
      "(5039, ['mean_power: low', 'trough_power: low', 'variance_power: medium', 'spikeness_power: medium'])\n",
      "(122, ['mean_power: low', 'trough_power: low', 'variance_power: medium', 'spikeness_power: high'])\n",
      "(13229, ['mean_power: low', 'trough_power: low', 'spikeness_power: medium'])\n",
      "(3024, ['mean_power: low', 'trough_power: low', 'variance_power: high'])\n",
      "(3024, ['mean_power: low', 'trough_power: low', 'variance_power: high', 'spikeness_power: medium'])\n",
      "(7628, ['mean_power: low', 'trough_power: low', 'variance_power: low'])\n",
      "(5166, ['mean_power: low', 'trough_power: low', 'variance_power: low', 'spikeness_power: medium'])\n",
      "(2457, ['mean_power: low', 'trough_power: low', 'variance_power: low', 'spikeness_power: high'])\n",
      "(5, ['mean_power: low', 'trough_power: low', 'variance_power: low', 'spikeness_power: low'])\n",
      "(2579, ['mean_power: low', 'trough_power: low', 'spikeness_power: high'])\n",
      "(5, ['mean_power: low', 'trough_power: low', 'spikeness_power: low'])\n",
      "(5161, ['mean_power: low', 'variance_power: medium'])\n",
      "(5039, ['mean_power: low', 'variance_power: medium', 'spikeness_power: medium'])\n",
      "(122, ['mean_power: low', 'variance_power: medium', 'spikeness_power: high'])\n",
      "(13229, ['mean_power: low', 'spikeness_power: medium'])\n",
      "(3024, ['mean_power: low', 'variance_power: high'])\n",
      "(3024, ['mean_power: low', 'variance_power: high', 'spikeness_power: medium'])\n",
      "(5149, ['mean_power: low', 'peak_power: low'])\n",
      "(5149, ['mean_power: low', 'peak_power: low', 'trough_power: low'])\n",
      "(5149, ['mean_power: low', 'peak_power: low', 'trough_power: low', 'variance_power: low'])\n",
      "(4751, ['mean_power: low', 'peak_power: low', 'trough_power: low', 'variance_power: low', 'spikeness_power: medium'])\n",
      "(393, ['mean_power: low', 'peak_power: low', 'trough_power: low', 'variance_power: low', 'spikeness_power: high'])\n",
      "(5, ['mean_power: low', 'peak_power: low', 'trough_power: low', 'variance_power: low', 'spikeness_power: low'])\n",
      "(4751, ['mean_power: low', 'peak_power: low', 'trough_power: low', 'spikeness_power: medium'])\n",
      "(393, ['mean_power: low', 'peak_power: low', 'trough_power: low', 'spikeness_power: high'])\n",
      "(5, ['mean_power: low', 'peak_power: low', 'trough_power: low', 'spikeness_power: low'])\n",
      "(5149, ['mean_power: low', 'peak_power: low', 'variance_power: low'])\n",
      "(4751, ['mean_power: low', 'peak_power: low', 'variance_power: low', 'spikeness_power: medium'])\n",
      "(393, ['mean_power: low', 'peak_power: low', 'variance_power: low', 'spikeness_power: high'])\n",
      "(5, ['mean_power: low', 'peak_power: low', 'variance_power: low', 'spikeness_power: low'])\n",
      "(4751, ['mean_power: low', 'peak_power: low', 'spikeness_power: medium'])\n",
      "(393, ['mean_power: low', 'peak_power: low', 'spikeness_power: high'])\n",
      "(5, ['mean_power: low', 'peak_power: low', 'spikeness_power: low'])\n",
      "(7628, ['mean_power: low', 'variance_power: low'])\n",
      "(5166, ['mean_power: low', 'variance_power: low', 'spikeness_power: medium'])\n",
      "(2457, ['mean_power: low', 'variance_power: low', 'spikeness_power: high'])\n",
      "(5, ['mean_power: low', 'variance_power: low', 'spikeness_power: low'])\n",
      "(325, ['mean_power: low', 'peak_power: medium'])\n",
      "(325, ['mean_power: low', 'peak_power: medium', 'trough_power: low'])\n",
      "(325, ['mean_power: low', 'peak_power: medium', 'trough_power: low', 'variance_power: low'])\n",
      "(217, ['mean_power: low', 'peak_power: medium', 'trough_power: low', 'variance_power: low', 'spikeness_power: high'])\n",
      "(108, ['mean_power: low', 'peak_power: medium', 'trough_power: low', 'variance_power: low', 'spikeness_power: medium'])\n",
      "(217, ['mean_power: low', 'peak_power: medium', 'trough_power: low', 'spikeness_power: high'])\n",
      "(108, ['mean_power: low', 'peak_power: medium', 'trough_power: low', 'spikeness_power: medium'])\n",
      "(325, ['mean_power: low', 'peak_power: medium', 'variance_power: low'])\n",
      "(217, ['mean_power: low', 'peak_power: medium', 'variance_power: low', 'spikeness_power: high'])\n",
      "(108, ['mean_power: low', 'peak_power: medium', 'variance_power: low', 'spikeness_power: medium'])\n",
      "(217, ['mean_power: low', 'peak_power: medium', 'spikeness_power: high'])\n",
      "(108, ['mean_power: low', 'peak_power: medium', 'spikeness_power: medium'])\n",
      "(2579, ['mean_power: low', 'spikeness_power: high'])\n",
      "(5, ['mean_power: low', 'spikeness_power: low'])\n",
      "(26991, ['variance_power: medium'])\n",
      "(26841, ['variance_power: medium', 'spikeness_power: medium'])\n",
      "(122, ['variance_power: medium', 'spikeness_power: high'])\n",
      "(28, ['variance_power: medium', 'spikeness_power: low'])\n",
      "(5149, ['peak_power: low'])\n",
      "(5149, ['peak_power: low', 'trough_power: low'])\n",
      "(5149, ['peak_power: low', 'trough_power: low', 'variance_power: low'])\n",
      "(4751, ['peak_power: low', 'trough_power: low', 'variance_power: low', 'spikeness_power: medium'])\n",
      "(393, ['peak_power: low', 'trough_power: low', 'variance_power: low', 'spikeness_power: high'])\n",
      "(5, ['peak_power: low', 'trough_power: low', 'variance_power: low', 'spikeness_power: low'])\n",
      "(4751, ['peak_power: low', 'trough_power: low', 'spikeness_power: medium'])\n",
      "(393, ['peak_power: low', 'trough_power: low', 'spikeness_power: high'])\n",
      "(5, ['peak_power: low', 'trough_power: low', 'spikeness_power: low'])\n",
      "(5149, ['peak_power: low', 'variance_power: low'])\n",
      "(4751, ['peak_power: low', 'variance_power: low', 'spikeness_power: medium'])\n",
      "(393, ['peak_power: low', 'variance_power: low', 'spikeness_power: high'])\n",
      "(5, ['peak_power: low', 'variance_power: low', 'spikeness_power: low'])\n",
      "(4751, ['peak_power: low', 'spikeness_power: medium'])\n",
      "(393, ['peak_power: low', 'spikeness_power: high'])\n",
      "(5, ['peak_power: low', 'spikeness_power: low'])\n",
      "(26616, ['variance_power: low'])\n",
      "(16465, ['variance_power: low', 'spikeness_power: medium'])\n",
      "(2466, ['variance_power: low', 'spikeness_power: high'])\n",
      "(7685, ['variance_power: low', 'spikeness_power: low'])\n",
      "(325, ['peak_power: medium'])\n",
      "(325, ['peak_power: medium', 'trough_power: low'])\n",
      "(325, ['peak_power: medium', 'trough_power: low', 'variance_power: low'])\n",
      "(217, ['peak_power: medium', 'trough_power: low', 'variance_power: low', 'spikeness_power: high'])\n",
      "(108, ['peak_power: medium', 'trough_power: low', 'variance_power: low', 'spikeness_power: medium'])\n",
      "(217, ['peak_power: medium', 'trough_power: low', 'spikeness_power: high'])\n",
      "(108, ['peak_power: medium', 'trough_power: low', 'spikeness_power: medium'])\n",
      "(325, ['peak_power: medium', 'variance_power: low'])\n",
      "(217, ['peak_power: medium', 'variance_power: low', 'spikeness_power: high'])\n",
      "(108, ['peak_power: medium', 'variance_power: low', 'spikeness_power: medium'])\n",
      "(217, ['peak_power: medium', 'spikeness_power: high'])\n",
      "(108, ['peak_power: medium', 'spikeness_power: medium'])\n",
      "(2588, ['spikeness_power: high'])\n",
      "(39264, ['mean_power: high'])\n",
      "(39264, ['mean_power: high', 'peak_power: high'])\n",
      "(29235, ['mean_power: high', 'peak_power: high', 'trough_power: low'])\n",
      "(16358, ['mean_power: high', 'peak_power: high', 'trough_power: low', 'variance_power: medium'])\n",
      "(16330, ['mean_power: high', 'peak_power: high', 'trough_power: low', 'variance_power: medium', 'spikeness_power: medium'])\n",
      "(28, ['mean_power: high', 'peak_power: high', 'trough_power: low', 'variance_power: medium', 'spikeness_power: low'])\n",
      "(21919, ['mean_power: high', 'peak_power: high', 'trough_power: low', 'spikeness_power: medium'])\n",
      "(3918, ['mean_power: high', 'peak_power: high', 'trough_power: low', 'variance_power: high'])\n",
      "(3918, ['mean_power: high', 'peak_power: high', 'trough_power: low', 'variance_power: high', 'spikeness_power: medium'])\n",
      "(8959, ['mean_power: high', 'peak_power: high', 'trough_power: low', 'variance_power: low'])\n",
      "(1671, ['mean_power: high', 'peak_power: high', 'trough_power: low', 'variance_power: low', 'spikeness_power: medium'])\n",
      "(7288, ['mean_power: high', 'peak_power: high', 'trough_power: low', 'variance_power: low', 'spikeness_power: low'])\n",
      "(7316, ['mean_power: high', 'peak_power: high', 'trough_power: low', 'spikeness_power: low'])\n",
      "(16358, ['mean_power: high', 'peak_power: high', 'variance_power: medium'])\n",
      "(16330, ['mean_power: high', 'peak_power: high', 'variance_power: medium', 'spikeness_power: medium'])\n",
      "(28, ['mean_power: high', 'peak_power: high', 'variance_power: medium', 'spikeness_power: low'])\n",
      "(31547, ['mean_power: high', 'peak_power: high', 'spikeness_power: medium'])\n",
      "(3918, ['mean_power: high', 'peak_power: high', 'variance_power: high'])\n",
      "(3918, ['mean_power: high', 'peak_power: high', 'variance_power: high', 'spikeness_power: medium'])\n",
      "(18988, ['mean_power: high', 'peak_power: high', 'variance_power: low'])\n",
      "(11299, ['mean_power: high', 'peak_power: high', 'variance_power: low', 'spikeness_power: medium'])\n",
      "(7680, ['mean_power: high', 'peak_power: high', 'variance_power: low', 'spikeness_power: low'])\n",
      "(9, ['mean_power: high', 'peak_power: high', 'variance_power: low', 'spikeness_power: high'])\n",
      "(9688, ['mean_power: high', 'peak_power: high', 'trough_power: high'])\n",
      "(9688, ['mean_power: high', 'peak_power: high', 'trough_power: high', 'variance_power: low'])\n",
      "(9547, ['mean_power: high', 'peak_power: high', 'trough_power: high', 'variance_power: low', 'spikeness_power: medium'])\n",
      "(132, ['mean_power: high', 'peak_power: high', 'trough_power: high', 'variance_power: low', 'spikeness_power: low'])\n",
      "(9, ['mean_power: high', 'peak_power: high', 'trough_power: high', 'variance_power: low', 'spikeness_power: high'])\n",
      "(9547, ['mean_power: high', 'peak_power: high', 'trough_power: high', 'spikeness_power: medium'])\n",
      "(132, ['mean_power: high', 'peak_power: high', 'trough_power: high', 'spikeness_power: low'])\n",
      "(9, ['mean_power: high', 'peak_power: high', 'trough_power: high', 'spikeness_power: high'])\n",
      "(7708, ['mean_power: high', 'peak_power: high', 'spikeness_power: low'])\n",
      "(341, ['mean_power: high', 'peak_power: high', 'trough_power: medium'])\n",
      "(341, ['mean_power: high', 'peak_power: high', 'trough_power: medium', 'variance_power: low'])\n",
      "(260, ['mean_power: high', 'peak_power: high', 'trough_power: medium', 'variance_power: low', 'spikeness_power: low'])\n",
      "(81, ['mean_power: high', 'peak_power: high', 'trough_power: medium', 'variance_power: low', 'spikeness_power: medium'])\n",
      "(260, ['mean_power: high', 'peak_power: high', 'trough_power: medium', 'spikeness_power: low'])\n",
      "(81, ['mean_power: high', 'peak_power: high', 'trough_power: medium', 'spikeness_power: medium'])\n",
      "(9, ['mean_power: high', 'peak_power: high', 'spikeness_power: high'])\n",
      "(29235, ['mean_power: high', 'trough_power: low'])\n",
      "(16358, ['mean_power: high', 'trough_power: low', 'variance_power: medium'])\n",
      "(16330, ['mean_power: high', 'trough_power: low', 'variance_power: medium', 'spikeness_power: medium'])\n",
      "(28, ['mean_power: high', 'trough_power: low', 'variance_power: medium', 'spikeness_power: low'])\n",
      "(21919, ['mean_power: high', 'trough_power: low', 'spikeness_power: medium'])\n",
      "(3918, ['mean_power: high', 'trough_power: low', 'variance_power: high'])\n",
      "(3918, ['mean_power: high', 'trough_power: low', 'variance_power: high', 'spikeness_power: medium'])\n",
      "(8959, ['mean_power: high', 'trough_power: low', 'variance_power: low'])\n",
      "(1671, ['mean_power: high', 'trough_power: low', 'variance_power: low', 'spikeness_power: medium'])\n",
      "(7288, ['mean_power: high', 'trough_power: low', 'variance_power: low', 'spikeness_power: low'])\n",
      "(7316, ['mean_power: high', 'trough_power: low', 'spikeness_power: low'])\n",
      "(16358, ['mean_power: high', 'variance_power: medium'])\n",
      "(16330, ['mean_power: high', 'variance_power: medium', 'spikeness_power: medium'])\n",
      "(28, ['mean_power: high', 'variance_power: medium', 'spikeness_power: low'])\n",
      "(31547, ['mean_power: high', 'spikeness_power: medium'])\n",
      "(3918, ['mean_power: high', 'variance_power: high'])\n",
      "(3918, ['mean_power: high', 'variance_power: high', 'spikeness_power: medium'])\n",
      "(18988, ['mean_power: high', 'variance_power: low'])\n",
      "(11299, ['mean_power: high', 'variance_power: low', 'spikeness_power: medium'])\n",
      "(7680, ['mean_power: high', 'variance_power: low', 'spikeness_power: low'])\n",
      "(9, ['mean_power: high', 'variance_power: low', 'spikeness_power: high'])\n",
      "(9688, ['mean_power: high', 'trough_power: high'])\n",
      "(9688, ['mean_power: high', 'trough_power: high', 'variance_power: low'])\n",
      "(9547, ['mean_power: high', 'trough_power: high', 'variance_power: low', 'spikeness_power: medium'])\n",
      "(132, ['mean_power: high', 'trough_power: high', 'variance_power: low', 'spikeness_power: low'])\n",
      "(9, ['mean_power: high', 'trough_power: high', 'variance_power: low', 'spikeness_power: high'])\n",
      "(9547, ['mean_power: high', 'trough_power: high', 'spikeness_power: medium'])\n",
      "(132, ['mean_power: high', 'trough_power: high', 'spikeness_power: low'])\n",
      "(9, ['mean_power: high', 'trough_power: high', 'spikeness_power: high'])\n",
      "(7708, ['mean_power: high', 'spikeness_power: low'])\n",
      "(341, ['mean_power: high', 'trough_power: medium'])\n",
      "(341, ['mean_power: high', 'trough_power: medium', 'variance_power: low'])\n",
      "(260, ['mean_power: high', 'trough_power: medium', 'variance_power: low', 'spikeness_power: low'])\n",
      "(81, ['mean_power: high', 'trough_power: medium', 'variance_power: low', 'spikeness_power: medium'])\n",
      "(260, ['mean_power: high', 'trough_power: medium', 'spikeness_power: low'])\n",
      "(81, ['mean_power: high', 'trough_power: medium', 'spikeness_power: medium'])\n",
      "(9, ['mean_power: high', 'spikeness_power: high'])\n",
      "(7713, ['spikeness_power: low'])\n",
      "(9688, ['trough_power: high'])\n",
      "(9688, ['trough_power: high', 'variance_power: low'])\n",
      "(9547, ['trough_power: high', 'variance_power: low', 'spikeness_power: medium'])\n",
      "(132, ['trough_power: high', 'variance_power: low', 'spikeness_power: low'])\n",
      "(9, ['trough_power: high', 'variance_power: low', 'spikeness_power: high'])\n",
      "(9547, ['trough_power: high', 'spikeness_power: medium'])\n",
      "(132, ['trough_power: high', 'spikeness_power: low'])\n",
      "(9, ['trough_power: high', 'spikeness_power: high'])\n",
      "(341, ['trough_power: medium'])\n",
      "(341, ['trough_power: medium', 'variance_power: low'])\n",
      "(260, ['trough_power: medium', 'variance_power: low', 'spikeness_power: low'])\n",
      "(81, ['trough_power: medium', 'variance_power: low', 'spikeness_power: medium'])\n",
      "(260, ['trough_power: medium', 'spikeness_power: low'])\n",
      "(81, ['trough_power: medium', 'spikeness_power: medium'])\n"
     ]
    }
   ],
   "source": [
    "\n",
    "for pattern in patterns[:20]:\n",
    "    print(pattern)\n"
   ]
  },
  {
   "cell_type": "markdown",
   "metadata": {},
   "source": [
    "## Results and Analysis <a id=\"results-and-analysis\"></a>"
   ]
  },
  {
   "cell_type": "markdown",
   "metadata": {},
   "source": [
    "**Association Rule Results**\n",
    "\n",
    "- Association rules reveal which feature categories often occur together or imply each other.\n",
    "- Key metrics such as **support**, **confidence**, and **lift** are used to evaluate the rules.\n",
    "\n",
    "**Sequential Pattern Results**\n",
    "\n",
    "- Sequential patterns show the most common sequences among feature categories, helping to identify temporal dependencies and trends."
   ]
  },
  {
   "cell_type": "markdown",
   "metadata": {},
   "source": [
    "## Conclusion <a id=\"conclusion\"></a>"
   ]
  },
  {
   "cell_type": "markdown",
   "metadata": {},
   "source": [
    "1. **Association Rules:**\n",
    "\n",
    "- Apriori successfully identified frequent itemsets and meaningful rules.\n",
    "- The rules provide insights into co-occurring feature behaviors.\n",
    "\n",
    "2. **Sequential Patterns:**\n",
    "\n",
    "- PrefixSpan uncovered frequent temporal patterns, which can be leveraged to understand the sequence of events in the data.\n",
    "\n",
    "This approach demonstrates the power of feature engineering and pattern discovery for time-series data."
   ]
  }
 ],
 "metadata": {
  "kernelspec": {
   "display_name": "Python 3",
   "language": "python",
   "name": "python3"
  },
  "language_info": {
   "codemirror_mode": {
    "name": "ipython",
    "version": 3
   },
   "file_extension": ".py",
   "mimetype": "text/x-python",
   "name": "python",
   "nbconvert_exporter": "python",
   "pygments_lexer": "ipython3",
   "version": "3.12.2"
  }
 },
 "nbformat": 4,
 "nbformat_minor": 2
}
