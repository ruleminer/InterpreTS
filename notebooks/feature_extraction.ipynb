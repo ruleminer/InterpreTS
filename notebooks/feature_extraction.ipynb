{
 "cells": [
  {
   "cell_type": "markdown",
   "metadata": {},
   "source": [
    "# Feature Extraction Notebook"
   ]
  },
  {
   "cell_type": "code",
   "execution_count": 20,
   "metadata": {},
   "outputs": [],
   "source": [
    "import pandas as pd\n",
    "import numpy as np\n",
    "import interpreTS as it"
   ]
  },
  {
   "cell_type": "code",
   "execution_count": 25,
   "metadata": {},
   "outputs": [
    {
     "name": "stdout",
     "output_type": "stream",
     "text": [
      "\n",
      "Features from Original Data:\n",
      "    id  length_value1  length_value2  mean_value1  mean_value2  \\\n",
      "0    0            100            100     0.010669    20.571929   \n",
      "1    1            100            100     0.022778    20.314417   \n",
      "2    2            100            100    -0.002312    20.549365   \n",
      "3    3            100            100    -0.032766    19.254959   \n",
      "4    4            100            100     0.092346    19.874896   \n",
      "..  ..            ...            ...          ...          ...   \n",
      "95  95            100            100    -0.058972    20.691235   \n",
      "96  96            100            100    -0.022771    19.653814   \n",
      "97  97            100            100     0.093071    20.140235   \n",
      "98  98            100            100     0.027638    22.573501   \n",
      "99  99            100            100    -0.065746    20.277345   \n",
      "\n",
      "    variance_value1  variance_value2  stability_value1  stability_value2  \\\n",
      "0          1.165220       107.454832          0.971107          0.932672   \n",
      "1          0.945808       104.932667          0.955373          0.952252   \n",
      "2          0.909039        91.374910          0.956964          0.949356   \n",
      "3          0.951198        78.575438          0.952468          0.958345   \n",
      "4          1.018141        92.336664          0.952060          0.930165   \n",
      "..              ...              ...               ...               ...   \n",
      "95         0.942550        98.688608          0.951258          0.941119   \n",
      "96         1.089748       101.116190          0.974075          0.966034   \n",
      "97         0.781538       125.373117          0.955181          0.950332   \n",
      "98         1.025490        68.604070          0.978287          0.929174   \n",
      "99         1.137120       102.081967          0.964650          0.935475   \n",
      "\n",
      "    entropy_value1  entropy_value2  spikeness_value1  spikeness_value2  \\\n",
      "0              1.0             1.0          0.217821          0.412519   \n",
      "1              1.0             1.0         -0.104310          0.009753   \n",
      "2              1.0             1.0          0.335165         -0.284469   \n",
      "3              1.0             1.0         -0.148244          0.318130   \n",
      "4              1.0             1.0         -0.013795         -0.093338   \n",
      "..             ...             ...               ...               ...   \n",
      "95             1.0             1.0         -0.169071         -0.092763   \n",
      "96             1.0             1.0         -0.058606          0.236976   \n",
      "97             1.0             1.0         -0.318089          0.191392   \n",
      "98             1.0             1.0          0.162061          0.149049   \n",
      "99             1.0             1.0          0.246667         -0.567989   \n",
      "\n",
      "    seasonality_strength_value1  seasonality_strength_value2  \n",
      "0                      0.000000                     0.053354  \n",
      "1                      0.000000                     0.062674  \n",
      "2                      0.000000                     0.000000  \n",
      "3                      0.000000                     0.057803  \n",
      "4                      0.016573                     0.000000  \n",
      "..                          ...                          ...  \n",
      "95                     0.179347                     0.000000  \n",
      "96                     0.005566                     0.071704  \n",
      "97                     0.000000                     0.000000  \n",
      "98                     0.062834                     0.000000  \n",
      "99                     0.008059                     0.010302  \n",
      "\n",
      "[100 rows x 15 columns]\n"
     ]
    }
   ],
   "source": [
    "# Creating a time series data\n",
    "data = pd.DataFrame({\n",
    "    'id': np.repeat(range(100), 100),\n",
    "    'time': np.tile(range(100), 100),\n",
    "    'value1': np.random.normal(0, 1, 10000),\n",
    "    'value2': np.random.normal(20, 10, 10000)\n",
    "})\n",
    "# Creating a feature extractor object\n",
    "extractor = it.FeatureExtractor(id_column='id', sort_column='time')\n",
    "\n",
    "# Extracting features from data\n",
    "features = extractor.extract_features(data)\n",
    "print(\"\\nFeatures from Original Data:\")\n",
    "print(features)\n"
   ]
  },
  {
   "cell_type": "code",
   "execution_count": null,
   "metadata": {},
   "outputs": [],
   "source": []
  }
 ],
 "metadata": {
  "kernelspec": {
   "display_name": "Python 3",
   "language": "python",
   "name": "python3"
  },
  "language_info": {
   "codemirror_mode": {
    "name": "ipython",
    "version": 3
   },
   "file_extension": ".py",
   "mimetype": "text/x-python",
   "name": "python",
   "nbconvert_exporter": "python",
   "pygments_lexer": "ipython3",
   "version": "3.12.6"
  }
 },
 "nbformat": 4,
 "nbformat_minor": 2
}
