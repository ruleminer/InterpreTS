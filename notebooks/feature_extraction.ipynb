{
 "cells": [
  {
   "cell_type": "markdown",
   "metadata": {},
   "source": [
    "# Feature Extraction Notebook"
   ]
  },
  {
   "cell_type": "code",
   "execution_count": null,
   "metadata": {},
   "outputs": [],
   "source": [
    "import pandas as pd\n",
    "import numpy as np\n",
    "import interpreTS as it"
   ]
  },
  {
   "cell_type": "code",
   "execution_count": 2,
   "metadata": {},
   "outputs": [
    {
     "name": "stdout",
     "output_type": "stream",
     "text": [
      "\n",
      "Features from Original Data:\n",
      "    length_value1  length_value2  mean_value1  mean_value2  variance_value1  \\\n",
      "0             100            100    -0.021970    19.920062         0.910658   \n",
      "1             100            100     0.012751    21.103138         0.864079   \n",
      "2             100            100     0.000491    18.203002         1.078269   \n",
      "3             100            100    -0.148103    20.285986         0.996970   \n",
      "4             100            100     0.008000    19.254863         0.945757   \n",
      "..            ...            ...          ...          ...              ...   \n",
      "95            100            100     0.093491    19.520919         0.975696   \n",
      "96            100            100    -0.026534    22.123070         0.776904   \n",
      "97            100            100     0.045979    22.527171         0.802641   \n",
      "98            100            100    -0.233236    19.737329         0.815522   \n",
      "99            100            100     0.138441    18.921382         1.227930   \n",
      "\n",
      "    variance_value2  stability_value1  stability_value2  entropy_value1  \\\n",
      "0         87.310072          0.943531          0.958273        0.977418   \n",
      "1         97.691687          0.972189          0.946172        0.944806   \n",
      "2         99.808056          0.980238          0.946093        0.941172   \n",
      "3        110.753440          0.961169          0.960562        0.957081   \n",
      "4         54.143234          0.969407          0.958519        0.958596   \n",
      "..              ...               ...               ...             ...   \n",
      "95        90.935009          0.954709          0.967296        0.949785   \n",
      "96        89.674599          0.929647          0.949565        0.954747   \n",
      "97       113.098819          0.970583          0.944232        0.970906   \n",
      "98        96.353981          0.962242          0.948324        0.966543   \n",
      "99        88.785436          0.950352          0.963973        0.959768   \n",
      "\n",
      "    entropy_value2  spikeness_value1  spikeness_value2  \\\n",
      "0         0.945364         -0.031499         -0.319613   \n",
      "1         0.953025          0.404523          0.211432   \n",
      "2         0.925106         -0.037133          0.003641   \n",
      "3         0.970220          0.149635          0.020225   \n",
      "4         0.973051         -0.039509         -0.094768   \n",
      "..             ...               ...               ...   \n",
      "95        0.923294          0.233484         -0.333458   \n",
      "96        0.919288         -0.561809         -0.595619   \n",
      "97        0.960347         -0.190848          0.188818   \n",
      "98        0.949861         -0.270233         -0.240386   \n",
      "99        0.931893          0.258274         -0.272535   \n",
      "\n",
      "    seasonality_strength_value1  seasonality_strength_value2  \n",
      "0                      0.000000                     0.000000  \n",
      "1                      0.000000                     0.000000  \n",
      "2                      0.000000                     0.000000  \n",
      "3                      0.009549                     0.013949  \n",
      "4                      0.000000                     0.000000  \n",
      "..                          ...                          ...  \n",
      "95                     0.000000                     0.030692  \n",
      "96                     0.059608                     0.000000  \n",
      "97                     0.000000                     0.000000  \n",
      "98                     0.031295                     0.073954  \n",
      "99                     0.156571                     0.023347  \n",
      "\n",
      "[100 rows x 14 columns]\n"
     ]
    }
   ],
   "source": [
    "# Creating a time series data\n",
    "data = pd.DataFrame({\n",
    "    'id': np.repeat(range(100), 100),\n",
    "    'time': np.tile(range(100), 100),\n",
    "    'value1': np.random.normal(0, 1, 10000),\n",
    "    'value2': np.random.normal(20, 10, 10000)\n",
    "})\n",
    "# Creating a feature extractor object\n",
    "extractor = it.FeatureExtractor(id_column='id', sort_column='time')\n",
    "\n",
    "# Extracting features from data\n",
    "features = extractor.extract_features(data)\n",
    "print(\"\\nFeatures from Original Data:\")\n",
    "print(features)\n"
   ]
  },
  {
   "cell_type": "code",
   "execution_count": null,
   "metadata": {},
   "outputs": [],
   "source": []
  }
 ],
 "metadata": {
  "kernelspec": {
   "display_name": "Python 3",
   "language": "python",
   "name": "python3"
  },
  "language_info": {
   "codemirror_mode": {
    "name": "ipython",
    "version": 3
   },
   "file_extension": ".py",
   "mimetype": "text/x-python",
   "name": "python",
   "nbconvert_exporter": "python",
   "pygments_lexer": "ipython3",
   "version": "3.10.11"
  }
 },
 "nbformat": 4,
 "nbformat_minor": 2
}
