{
 "cells": [
  {
   "cell_type": "markdown",
   "id": "fe1d504d-945b-4061-847a-7a16ae74347d",
   "metadata": {},
   "source": [
    "results(JS):\n",
    "interpreTS - Time taken(1000 points): 0.8137655258178711\n",
    "tsfresh - Time taken(1000 points): 0.4563596248626709\n",
    "difference: x1.7831\n",
    "\n",
    "interpreTS - Time taken(10 000 points): 9.371251821517944\n",
    "tsfresh - Time taken(10 000 points): 3.838933229446411\n",
    "difference: x2.4411\n",
    "\n",
    "interpreTS - Time taken(100 000 points): 93.85015201568604\n",
    "tsfresh - Time taken(100 000 points): 54.49878811836243\n",
    "difference: x1,7220\n",
    "\n",
    "interpreTS - Time taken(1 000 000 points): 1083,7833981513977\n",
    "tsfresh - Time taken(100 000 points): 501,2540650367737\n",
    "difference: x2,1621"
   ]
  },
  {
   "cell_type": "code",
   "execution_count": 2,
   "id": "e6c9487b-3827-46a2-87ec-1bf8f042b941",
   "metadata": {},
   "outputs": [
    {
     "name": "stderr",
     "output_type": "stream",
     "text": [
      "WARNING:interpreTS:scikit-learn is not installed. Please install it to use interpreTS.\n",
      "WARNING:interpreTS:myst-parser is not installed. Please install it to use interpreTS.\n"
     ]
    },
    {
     "data": {
      "text/plain": [
       "'0.4.1'"
      ]
     },
     "execution_count": 2,
     "metadata": {},
     "output_type": "execute_result"
    }
   ],
   "source": [
    "import interpreTS as it\n",
    "import pandas as pd\n",
    "import numpy as np\n",
    "import time\n",
    "from tsfresh import extract_features\n",
    "it.__version__"
   ]
  },
  {
   "cell_type": "code",
   "execution_count": 3,
   "id": "29d3671a-2aef-46e5-8a09-d1fdade25aad",
   "metadata": {},
   "outputs": [],
   "source": [
    "data1 = pd.DataFrame({\n",
    "    'id': [1] * 1000,\n",
    "    'time': np.arange(1000),\n",
    "    'value': np.sin(np.arange(1000) / 20)\n",
    "})\n",
    "data2 = pd.DataFrame({\n",
    "    'id': [1] * 10000,\n",
    "    'time': np.arange(10000),\n",
    "    'value': np.sin(np.arange(10000) / 20)\n",
    "})\n",
    "data3 = pd.DataFrame({\n",
    "    'id': [1] * 100000,\n",
    "    'time': np.arange(100000),\n",
    "    'value': np.sin(np.arange(100000) / 20)\n",
    "})\n",
    "data4 = pd.DataFrame({\n",
    "    'id': [1] * 1000000,\n",
    "    'time': np.arange(1000000),\n",
    "    'value': np.sin(np.arange(1000000) / 20)\n",
    "})\n",
    "\n",
    "def create_overlapping_windows(data, id_col, time_col, value_col, window_size, stride):\n",
    "    windows = []\n",
    "    ids = []\n",
    "    start_indices = range(0, len(data) - window_size + 1, stride)\n",
    "    \n",
    "    for idx, start in enumerate(start_indices):\n",
    "        end = start + window_size\n",
    "        window = data.iloc[start:end].copy()\n",
    "        window['window_id'] = idx\n",
    "        windows.append(window)\n",
    "        ids.append(idx)\n",
    "    \n",
    "    return pd.concat(windows), ids\n"
   ]
  },
  {
   "cell_type": "code",
   "execution_count": 62,
   "id": "cfee62ce-0ff7-43f7-8bce-ec4f08633cfb",
   "metadata": {},
   "outputs": [],
   "source": [
    "DEFAULT_FEATURES_IT = [\n",
    "    it.Features.ABSOLUTE_ENERGY,\n",
    "    it.Features.ENTROPY,\n",
    "    it.Features.CROSSING_POINTS,\n",
    "    it.Features.MEAN,\n",
    "    it.Features.VARIANCE,\n",
    "    it.Features.PEAK,\n",
    "    it.Features.TROUGH,\n",
    "    it.Features.SPIKENESS,\n",
    "    it.Features.SEASONALITY_STRENGTH,\n",
    "    it.Features.TREND_STRENGTH\n",
    "]"
   ]
  },
  {
   "cell_type": "code",
   "execution_count": null,
   "id": "9bd175eb-0521-4c24-b57a-22e772a468dd",
   "metadata": {},
   "outputs": [],
   "source": [
    "custom_fc_parameters = {\n",
    "    'absolute_sum_of_changes': None,\n",
    "    'approximate_entropy': [{'m': 2, 'r': 0.2}],  # Specify parameters for approximate_entropy\n",
    "    'number_crossing_m': [{'m': 0}],             # Crossing points at m=0\n",
    "    'mean': None,\n",
    "    'variance': None,\n",
    "    'maximum': None,\n",
    "    'minimum': None,\n",
    "    'spkt_welch_density': [{'coeff': 2}],        # Spikeness approximation\n",
    "    'fft_aggregated': [{'aggtype': 'centroid'}], # Seasonality approximation using FFT\n",
    "    'linear_trend': [{'attr': 'slope'}]          # Trend strength via slope\n",
    "}"
   ]
  },
  {
   "cell_type": "code",
   "execution_count": 76,
   "id": "4bdb930c-503e-4eb4-bdec-17a264b2cef5",
   "metadata": {},
   "outputs": [],
   "source": [
    "extractor_it = it.FeatureExtractor(\n",
    "    window_size=60, \n",
    "    stride=30, \n",
    "    features=DEFAULT_FEATURES_IT,\n",
    "    id_column='id',\n",
    "    sort_column='time'\n",
    ")"
   ]
  },
  {
   "cell_type": "code",
   "execution_count": 77,
   "id": "cada4b8a-55f3-47d1-be70-6900b838f139",
   "metadata": {},
   "outputs": [
    {
     "name": "stdout",
     "output_type": "stream",
     "text": [
      "interpreTS - Time taken(1000 points): 0.8137655258178711\n"
     ]
    }
   ],
   "source": [
    "start = time.time()\n",
    "features_it = extractor_it.extract_features(data1, n_jobs=1)\n",
    "end = time.time()\n",
    "\n",
    "print(\"interpreTS - Time taken(1000 points):\", end - start)"
   ]
  },
  {
   "cell_type": "code",
   "execution_count": 78,
   "id": "f5f62550-c207-42d7-bf0f-33c0eb96a7a2",
   "metadata": {},
   "outputs": [
    {
     "name": "stderr",
     "output_type": "stream",
     "text": [
      "Feature Extraction: 100%|██████████████████████████████████████████████████████████████| 32/32 [00:00<00:00, 73.17it/s]"
     ]
    },
    {
     "name": "stdout",
     "output_type": "stream",
     "text": [
      "tsfresh - Time taken(1000 points): 0.4563596248626709\n"
     ]
    },
    {
     "name": "stderr",
     "output_type": "stream",
     "text": [
      "\n"
     ]
    }
   ],
   "source": [
    "# Create overlapping windows (tsresh does not support them)\n",
    "window_size = 60\n",
    "stride = 30\n",
    "data_windows, ids = create_overlapping_windows(data1, 'id', 'time', 'value', window_size, stride)\n",
    "\n",
    "start = time.time()\n",
    "features_tsfresh = extract_features(\n",
    "    data_windows, \n",
    "    column_id='window_id',   # Use the window ID as the column_id\n",
    "    column_sort='time',      # Time column to sort within each window\n",
    "    column_value='value', \n",
    "    default_fc_parameters=custom_fc_parameters, \n",
    "    n_jobs=1\n",
    ")\n",
    "end = time.time()\n",
    "\n",
    "print(\"tsfresh - Time taken(1000 points):\", end - start)"
   ]
  },
  {
   "cell_type": "code",
   "execution_count": 79,
   "id": "7d4cac9b-147b-42cd-8bc6-e66aaaadcfed",
   "metadata": {},
   "outputs": [
    {
     "name": "stdout",
     "output_type": "stream",
     "text": [
      "interpreTS - Time taken(10 000 points): 9.371251821517944\n"
     ]
    }
   ],
   "source": [
    "start = time.time()\n",
    "features_it = extractor_it.extract_features(data2, n_jobs=1)\n",
    "end = time.time()\n",
    "\n",
    "print(\"interpreTS - Time taken(10 000 points):\", end - start)"
   ]
  },
  {
   "cell_type": "code",
   "execution_count": 80,
   "id": "47307189-696d-401c-bf72-d126c50e68a8",
   "metadata": {},
   "outputs": [
    {
     "name": "stderr",
     "output_type": "stream",
     "text": [
      "Feature Extraction: 100%|████████████████████████████████████████████████████████████| 332/332 [00:03<00:00, 87.25it/s]"
     ]
    },
    {
     "name": "stdout",
     "output_type": "stream",
     "text": [
      "tsfresh - Time taken(1000 points): 3.838933229446411\n"
     ]
    },
    {
     "name": "stderr",
     "output_type": "stream",
     "text": [
      "\n"
     ]
    }
   ],
   "source": [
    "# Create overlapping windows (tsresh does not support them)\n",
    "window_size = 60\n",
    "stride = 30\n",
    "data_windows, ids = create_overlapping_windows(data2, 'id', 'time', 'value', window_size, stride)\n",
    "\n",
    "start = time.time()\n",
    "features_tsfresh = extract_features(\n",
    "    data_windows, \n",
    "    column_id='window_id',   # Use the window ID as the column_id\n",
    "    column_sort='time',      # Time column to sort within each window\n",
    "    column_value='value', \n",
    "    default_fc_parameters=custom_fc_parameters, \n",
    "    n_jobs=1\n",
    ")\n",
    "end = time.time()\n",
    "\n",
    "print(\"tsfresh - Time taken(10 000 points):\", end - start)"
   ]
  },
  {
   "cell_type": "code",
   "execution_count": 84,
   "id": "6c30b1af-3da1-45e7-bcc4-a28efeb77af3",
   "metadata": {},
   "outputs": [
    {
     "name": "stdout",
     "output_type": "stream",
     "text": [
      "interpreTS - Time taken(100 000 points): 93.85015201568604\n"
     ]
    }
   ],
   "source": [
    "start = time.time()\n",
    "features_it = extractor_it.extract_features(data3, n_jobs=1)\n",
    "end = time.time()\n",
    "\n",
    "print(\"interpreTS - Time taken(100 000 points):\", end - start)"
   ]
  },
  {
   "cell_type": "code",
   "execution_count": 85,
   "id": "a5ac07d3-60f9-49cc-9715-d44cf177783b",
   "metadata": {},
   "outputs": [
    {
     "name": "stderr",
     "output_type": "stream",
     "text": [
      "Feature Extraction: 100%|██████████████████████████████████████████████████████████| 3332/3332 [00:54<00:00, 61.31it/s]\n"
     ]
    },
    {
     "name": "stdout",
     "output_type": "stream",
     "text": [
      "tsfresh - Time taken(100 000 points): 54.49878811836243\n"
     ]
    }
   ],
   "source": [
    "# Create overlapping windows (tsresh does not support them)\n",
    "window_size = 60\n",
    "stride = 30\n",
    "data_windows, ids = create_overlapping_windows(data3, 'id', 'time', 'value', window_size, stride)\n",
    "\n",
    "start = time.time()\n",
    "features_tsfresh = extract_features(\n",
    "    data_windows, \n",
    "    column_id='window_id',   # Use the window ID as the column_id\n",
    "    column_sort='time',      # Time column to sort within each window\n",
    "    column_value='value', \n",
    "    default_fc_parameters=custom_fc_parameters, \n",
    "    n_jobs=1\n",
    ")\n",
    "end = time.time()\n",
    "\n",
    "print(\"tsfresh - Time taken(100 000 points):\", end - start)"
   ]
  },
  {
   "cell_type": "code",
   "execution_count": null,
   "id": "66d52627-73cb-47f8-b59f-d5e453dd4f58",
   "metadata": {},
   "outputs": [],
   "source": [
    "start = time.time()\n",
    "features_it = extractor_it.extract_features(data4, n_jobs=1)\n",
    "end = time.time()\n",
    "\n",
    "print(\"interpreTS - Time taken(1 000 000 points):\", end - start)"
   ]
  },
  {
   "cell_type": "code",
   "execution_count": null,
   "id": "ad159cf0-ed86-4e80-bd4f-f819d439b183",
   "metadata": {},
   "outputs": [],
   "source": [
    "# Create overlapping windows (tsresh does not support them)\n",
    "window_size = 60\n",
    "stride = 30\n",
    "data_windows, ids = create_overlapping_windows(data4, 'id', 'time', 'value', window_size, stride)\n",
    "\n",
    "start = time.time()\n",
    "features_tsfresh = extract_features(\n",
    "    data_windows, \n",
    "    column_id='window_id',   # Use the window ID as the column_id\n",
    "    column_sort='time',      # Time column to sort within each window\n",
    "    column_value='value', \n",
    "    default_fc_parameters=custom_fc_parameters, \n",
    "    n_jobs=1\n",
    ")\n",
    "end = time.time()\n",
    "\n",
    "print(\"tsfresh - Time taken(1 000 000 points):\", end - start)"
   ]
  },
  {
   "cell_type": "code",
   "execution_count": 6,
   "id": "82d5e3d0-88f9-47e1-b89a-7136d99c76e8",
   "metadata": {},
   "outputs": [],
   "source": [
    "from interpreTS import Features"
   ]
  },
  {
   "cell_type": "code",
   "execution_count": 7,
   "id": "caff4540-54d4-4974-9d49-d461bf27860b",
   "metadata": {},
   "outputs": [],
   "source": [
    "ALL_FEATURES_NOPARAMS = [\n",
    "    Features.ABSOLUTE_ENERGY, Features.BINARIZE_MEAN,\n",
    "    Features.CHANGE_IN_VARIANCE, Features.CROSSING_POINTS, Features.DISTANCE_TO_LAST_TREND_CHANGE, Features.DOMINANT,\n",
    "    Features.ENTROPY, Features.FLAT_SPOTS, Features.HETEROGENEITY,\n",
    "    Features.LINEARITY, Features.LENGTH, Features.MEAN, Features.MISSING_POINTS,\n",
    "    Features.PEAK, Features.SIGNIFICANT_CHANGES, Features.SPIKENESS, Features.STABILITY,\n",
    "    Features.STD_1ST_DER, Features.TROUGH, Features.VARIANCE, Features.MEAN_CHANGE,\n",
    "    Features.SEASONALITY_STRENGTH, Features.TREND_STRENGTH, Features.CHANGE_IN_VARIANCE\n",
    "    ]"
   ]
  },
  {
   "cell_type": "code",
   "execution_count": 14,
   "id": "cdef8fa8-db54-49af-8b1f-5c8b718c176a",
   "metadata": {},
   "outputs": [
    {
     "name": "stdout",
     "output_type": "stream",
     "text": [
      "time calculating absolute_energy : 1.2015399932861328\n",
      "time calculating binarize_mean : 2.568347930908203\n",
      "time calculating change_in_variance : 1.5839896202087402\n",
      "time calculating crossing_points : 1.056203842163086\n",
      "time calculating distance_to_last_trend_change : 3.3091278076171875\n",
      "time calculating dominant : 1.336702585220337\n",
      "time calculating entropy : 5.449209690093994\n",
      "time calculating flat_spots : 1.9238181114196777\n",
      "time calculating heterogeneity : 0.9805364608764648\n",
      "time calculating linearity : 5.3126959800720215\n",
      "time calculating length : 0.7460734844207764\n",
      "time calculating mean : 0.8200576305389404\n",
      "time calculating missing_points : 0.6400461196899414\n",
      "time calculating peak : 0.6421828269958496\n",
      "time calculating significant_changes : 1.8749897480010986\n",
      "time calculating spikeness : 0.8596804141998291\n",
      "time calculating stability : 1.4248366355895996\n",
      "time calculating std_1st_der : 1.0758893489837646\n",
      "time calculating trough : 0.41234278678894043\n",
      "time calculating variance : 0.9299232959747314\n",
      "time calculating mean_change : 1.5018906593322754\n",
      "time calculating seasonality_strength : 0.7264823913574219\n",
      "time calculating trend_strength : 4.031705379486084\n",
      "time calculating change_in_variance : 1.4858503341674805\n",
      "[0.41234278678894043, 0.6400461196899414, 0.6421828269958496, 0.7264823913574219, 0.7460734844207764, 0.8200576305389404, 0.8596804141998291, 0.9299232959747314, 0.9805364608764648, 1.056203842163086, 1.0758893489837646, 1.2015399932861328, 1.336702585220337, 1.4248366355895996, 1.4858503341674805, 1.5018906593322754, 1.5839896202087402, 1.8749897480010986, 1.9238181114196777, 2.568347930908203, 3.3091278076171875, 4.031705379486084, 5.3126959800720215, 5.449209690093994]\n"
     ]
    }
   ],
   "source": [
    "for i in ALL_FEATURES_NOPARAMS:\n",
    "    extractor_it = it.FeatureExtractor(\n",
    "    window_size=60, \n",
    "    stride=30, \n",
    "    features=[i],\n",
    "    id_column='id',\n",
    "    sort_column='time'\n",
    "    )\n",
    "    start = time.time()\n",
    "    features_it = extractor_it.extract_features(data3, n_jobs=1)\n",
    "    end = time.time()\n",
    "    print(\"time calculating\", i, \":\", end-start)"
   ]
  },
  {
   "cell_type": "code",
   "execution_count": null,
   "id": "afc890af-14c6-49bc-8af0-32165022e6f8",
   "metadata": {},
   "outputs": [],
   "source": []
  }
 ],
 "metadata": {
  "kernelspec": {
   "display_name": "Python 3 (ipykernel)",
   "language": "python",
   "name": "python3"
  },
  "language_info": {
   "codemirror_mode": {
    "name": "ipython",
    "version": 3
   },
   "file_extension": ".py",
   "mimetype": "text/x-python",
   "name": "python",
   "nbconvert_exporter": "python",
   "pygments_lexer": "ipython3",
   "version": "3.11.7"
  }
 },
 "nbformat": 4,
 "nbformat_minor": 5
}
